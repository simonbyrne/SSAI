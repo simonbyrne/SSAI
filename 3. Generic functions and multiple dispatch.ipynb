{
 "cells": [
  {
   "cell_type": "markdown",
   "metadata": {},
   "source": [
    "# 3. Generic functions and multiple dispatch\n",
    "\n",
    "Julia functions are *generic* in that different code paths can be called depending on the type arguments."
   ]
  },
  {
   "cell_type": "code",
   "execution_count": 1,
   "metadata": {
    "collapsed": false
   },
   "outputs": [
    {
     "data": {
      "text/plain": [
       "f (generic function with 2 methods)"
      ]
     },
     "execution_count": 1,
     "metadata": {},
     "output_type": "execute_result"
    }
   ],
   "source": [
    "f(x::Float64) = \"$x is a float\"\n",
    "f(x::Int) = \"$x is an integer\""
   ]
  },
  {
   "cell_type": "code",
   "execution_count": 2,
   "metadata": {
    "collapsed": false
   },
   "outputs": [
    {
     "data": {
      "text/plain": [
       "\"1.0 is a float\""
      ]
     },
     "execution_count": 2,
     "metadata": {},
     "output_type": "execute_result"
    }
   ],
   "source": [
    "f(1.0)"
   ]
  },
  {
   "cell_type": "code",
   "execution_count": 3,
   "metadata": {
    "collapsed": false
   },
   "outputs": [
    {
     "data": {
      "text/plain": [
       "\"1 is an integer\""
      ]
     },
     "execution_count": 3,
     "metadata": {},
     "output_type": "execute_result"
    }
   ],
   "source": [
    "f(1)"
   ]
  },
  {
   "cell_type": "markdown",
   "metadata": {},
   "source": [
    "Unlike traditional object oriented languages (C++, Python, Matlab), functions don't \"belong\" to a type. This allows for *method dispatch* on any combination of arguments."
   ]
  },
  {
   "cell_type": "code",
   "execution_count": 5,
   "metadata": {
    "collapsed": false
   },
   "outputs": [
    {
     "data": {
      "text/plain": [
       "f (generic function with 4 methods)"
      ]
     },
     "execution_count": 5,
     "metadata": {},
     "output_type": "execute_result"
    }
   ],
   "source": [
    "f(x::Float64,y::Int) = \"$x is a float, but $y is an integer\"\n",
    "f(x::Real,y::Real) = \"$x and $y are both some sort of real\" # can also dispatch on abstract types"
   ]
  },
  {
   "cell_type": "code",
   "execution_count": 6,
   "metadata": {
    "collapsed": false
   },
   "outputs": [
    {
     "data": {
      "text/plain": [
       "\"1.0 is a float, but 1 is an integer\""
      ]
     },
     "execution_count": 6,
     "metadata": {},
     "output_type": "execute_result"
    }
   ],
   "source": [
    "f(1.0, 1)"
   ]
  },
  {
   "cell_type": "code",
   "execution_count": 7,
   "metadata": {
    "collapsed": false
   },
   "outputs": [
    {
     "data": {
      "text/plain": [
       "\"1//2 and 1 are both some sort of real\""
      ]
     },
     "execution_count": 7,
     "metadata": {},
     "output_type": "execute_result"
    }
   ],
   "source": [
    "f(1//2,1)"
   ]
  },
  {
   "cell_type": "markdown",
   "metadata": {},
   "source": [
    "This is a very powerful concept, and widely used in Julia code.\n",
    "\n",
    "For example, the multiplication operator `*` is itself a function: the methods can be listed by `methods`:"
   ]
  },
  {
   "cell_type": "code",
   "execution_count": 8,
   "metadata": {
    "collapsed": false
   },
   "outputs": [
    {
     "data": {
      "text/html": [
       "138 methods for generic function <b>*</b>:<ul><li> *(x::<b>Bool</b>, y::<b>Bool</b>) at <a href=\"https://github.com/JuliaLang/julia/tree/cbe1bee3a8f27ba4f349556857bf4615ee5fa68f/base/bool.jl#L38\" target=\"_blank\">bool.jl:38</a><li> *<i>{T<:Unsigned}</i>(x::<b>Bool</b>, y::<b>T<:Unsigned</b>) at <a href=\"https://github.com/JuliaLang/julia/tree/cbe1bee3a8f27ba4f349556857bf4615ee5fa68f/base/bool.jl#L53\" target=\"_blank\">bool.jl:53</a><li> *(x::<b>Bool</b>, z::<b>Complex{Bool}</b>) at <a href=\"https://github.com/JuliaLang/julia/tree/cbe1bee3a8f27ba4f349556857bf4615ee5fa68f/base/complex.jl#L122\" target=\"_blank\">complex.jl:122</a><li> *(x::<b>Bool</b>, z::<b>Complex{T<:Real}</b>) at <a href=\"https://github.com/JuliaLang/julia/tree/cbe1bee3a8f27ba4f349556857bf4615ee5fa68f/base/complex.jl#L129\" target=\"_blank\">complex.jl:129</a><li> *<i>{T<:Number}</i>(x::<b>Bool</b>, y::<b>T<:Number</b>) at <a href=\"https://github.com/JuliaLang/julia/tree/cbe1bee3a8f27ba4f349556857bf4615ee5fa68f/base/bool.jl#L49\" target=\"_blank\">bool.jl:49</a><li> *(x::<b>Float32</b>, y::<b>Float32</b>) at <a href=\"https://github.com/JuliaLang/julia/tree/cbe1bee3a8f27ba4f349556857bf4615ee5fa68f/base/float.jl#L207\" target=\"_blank\">float.jl:207</a><li> *(x::<b>Float64</b>, y::<b>Float64</b>) at <a href=\"https://github.com/JuliaLang/julia/tree/cbe1bee3a8f27ba4f349556857bf4615ee5fa68f/base/float.jl#L208\" target=\"_blank\">float.jl:208</a><li> *(z::<b>Complex{T<:Real}</b>, w::<b>Complex{T<:Real}</b>) at <a href=\"https://github.com/JuliaLang/julia/tree/cbe1bee3a8f27ba4f349556857bf4615ee5fa68f/base/complex.jl#L113\" target=\"_blank\">complex.jl:113</a><li> *(z::<b>Complex{Bool}</b>, x::<b>Bool</b>) at <a href=\"https://github.com/JuliaLang/julia/tree/cbe1bee3a8f27ba4f349556857bf4615ee5fa68f/base/complex.jl#L123\" target=\"_blank\">complex.jl:123</a><li> *(z::<b>Complex{T<:Real}</b>, x::<b>Bool</b>) at <a href=\"https://github.com/JuliaLang/julia/tree/cbe1bee3a8f27ba4f349556857bf4615ee5fa68f/base/complex.jl#L130\" target=\"_blank\">complex.jl:130</a><li> *(x::<b>Real</b>, z::<b>Complex{Bool}</b>) at <a href=\"https://github.com/JuliaLang/julia/tree/cbe1bee3a8f27ba4f349556857bf4615ee5fa68f/base/complex.jl#L140\" target=\"_blank\">complex.jl:140</a><li> *(z::<b>Complex{Bool}</b>, x::<b>Real</b>) at <a href=\"https://github.com/JuliaLang/julia/tree/cbe1bee3a8f27ba4f349556857bf4615ee5fa68f/base/complex.jl#L141\" target=\"_blank\">complex.jl:141</a><li> *(x::<b>Real</b>, z::<b>Complex{T<:Real}</b>) at <a href=\"https://github.com/JuliaLang/julia/tree/cbe1bee3a8f27ba4f349556857bf4615ee5fa68f/base/complex.jl#L152\" target=\"_blank\">complex.jl:152</a><li> *(z::<b>Complex{T<:Real}</b>, x::<b>Real</b>) at <a href=\"https://github.com/JuliaLang/julia/tree/cbe1bee3a8f27ba4f349556857bf4615ee5fa68f/base/complex.jl#L153\" target=\"_blank\">complex.jl:153</a><li> *(x::<b>Rational{T<:Integer}</b>, y::<b>Rational{T<:Integer}</b>) at <a href=\"https://github.com/JuliaLang/julia/tree/cbe1bee3a8f27ba4f349556857bf4615ee5fa68f/base/rational.jl#L186\" target=\"_blank\">rational.jl:186</a><li> *(a::<b>Float16</b>, b::<b>Float16</b>) at <a href=\"https://github.com/JuliaLang/julia/tree/cbe1bee3a8f27ba4f349556857bf4615ee5fa68f/base/float16.jl#L136\" target=\"_blank\">float16.jl:136</a><li> *<i>{N}</i>(a::<b>Integer</b>, index::<b>CartesianIndex{N}</b>) at <a href=\"https://github.com/JuliaLang/julia/tree/cbe1bee3a8f27ba4f349556857bf4615ee5fa68f/base/multidimensional.jl#L50\" target=\"_blank\">multidimensional.jl:50</a><li> *(x::<b>BigInt</b>, y::<b>BigInt</b>) at <a href=\"https://github.com/JuliaLang/julia/tree/cbe1bee3a8f27ba4f349556857bf4615ee5fa68f/base/gmp.jl#L256\" target=\"_blank\">gmp.jl:256</a><li> *(a::<b>BigInt</b>, b::<b>BigInt</b>, c::<b>BigInt</b>) at <a href=\"https://github.com/JuliaLang/julia/tree/cbe1bee3a8f27ba4f349556857bf4615ee5fa68f/base/gmp.jl#L279\" target=\"_blank\">gmp.jl:279</a><li> *(a::<b>BigInt</b>, b::<b>BigInt</b>, c::<b>BigInt</b>, d::<b>BigInt</b>) at <a href=\"https://github.com/JuliaLang/julia/tree/cbe1bee3a8f27ba4f349556857bf4615ee5fa68f/base/gmp.jl#L285\" target=\"_blank\">gmp.jl:285</a><li> *(a::<b>BigInt</b>, b::<b>BigInt</b>, c::<b>BigInt</b>, d::<b>BigInt</b>, e::<b>BigInt</b>) at <a href=\"https://github.com/JuliaLang/julia/tree/cbe1bee3a8f27ba4f349556857bf4615ee5fa68f/base/gmp.jl#L292\" target=\"_blank\">gmp.jl:292</a><li> *(x::<b>BigInt</b>, c::<b>Union{UInt16,UInt32,UInt64,UInt8}</b>) at <a href=\"https://github.com/JuliaLang/julia/tree/cbe1bee3a8f27ba4f349556857bf4615ee5fa68f/base/gmp.jl#L326\" target=\"_blank\">gmp.jl:326</a><li> *(c::<b>Union{UInt16,UInt32,UInt64,UInt8}</b>, x::<b>BigInt</b>) at <a href=\"https://github.com/JuliaLang/julia/tree/cbe1bee3a8f27ba4f349556857bf4615ee5fa68f/base/gmp.jl#L330\" target=\"_blank\">gmp.jl:330</a><li> *(x::<b>BigInt</b>, c::<b>Union{Int16,Int32,Int64,Int8}</b>) at <a href=\"https://github.com/JuliaLang/julia/tree/cbe1bee3a8f27ba4f349556857bf4615ee5fa68f/base/gmp.jl#L332\" target=\"_blank\">gmp.jl:332</a><li> *(c::<b>Union{Int16,Int32,Int64,Int8}</b>, x::<b>BigInt</b>) at <a href=\"https://github.com/JuliaLang/julia/tree/cbe1bee3a8f27ba4f349556857bf4615ee5fa68f/base/gmp.jl#L336\" target=\"_blank\">gmp.jl:336</a><li> *(x::<b>BigFloat</b>, y::<b>BigFloat</b>) at <a href=\"https://github.com/JuliaLang/julia/tree/cbe1bee3a8f27ba4f349556857bf4615ee5fa68f/base/mpfr.jl#L208\" target=\"_blank\">mpfr.jl:208</a><li> *(x::<b>BigFloat</b>, c::<b>Union{UInt16,UInt32,UInt64,UInt8}</b>) at <a href=\"https://github.com/JuliaLang/julia/tree/cbe1bee3a8f27ba4f349556857bf4615ee5fa68f/base/mpfr.jl#L215\" target=\"_blank\">mpfr.jl:215</a><li> *(c::<b>Union{UInt16,UInt32,UInt64,UInt8}</b>, x::<b>BigFloat</b>) at <a href=\"https://github.com/JuliaLang/julia/tree/cbe1bee3a8f27ba4f349556857bf4615ee5fa68f/base/mpfr.jl#L219\" target=\"_blank\">mpfr.jl:219</a><li> *(x::<b>BigFloat</b>, c::<b>Union{Int16,Int32,Int64,Int8}</b>) at <a href=\"https://github.com/JuliaLang/julia/tree/cbe1bee3a8f27ba4f349556857bf4615ee5fa68f/base/mpfr.jl#L223\" target=\"_blank\">mpfr.jl:223</a><li> *(c::<b>Union{Int16,Int32,Int64,Int8}</b>, x::<b>BigFloat</b>) at <a href=\"https://github.com/JuliaLang/julia/tree/cbe1bee3a8f27ba4f349556857bf4615ee5fa68f/base/mpfr.jl#L227\" target=\"_blank\">mpfr.jl:227</a><li> *(x::<b>BigFloat</b>, c::<b>Union{Float16,Float32,Float64}</b>) at <a href=\"https://github.com/JuliaLang/julia/tree/cbe1bee3a8f27ba4f349556857bf4615ee5fa68f/base/mpfr.jl#L231\" target=\"_blank\">mpfr.jl:231</a><li> *(c::<b>Union{Float16,Float32,Float64}</b>, x::<b>BigFloat</b>) at <a href=\"https://github.com/JuliaLang/julia/tree/cbe1bee3a8f27ba4f349556857bf4615ee5fa68f/base/mpfr.jl#L235\" target=\"_blank\">mpfr.jl:235</a><li> *(x::<b>BigFloat</b>, c::<b>BigInt</b>) at <a href=\"https://github.com/JuliaLang/julia/tree/cbe1bee3a8f27ba4f349556857bf4615ee5fa68f/base/mpfr.jl#L239\" target=\"_blank\">mpfr.jl:239</a><li> *(c::<b>BigInt</b>, x::<b>BigFloat</b>) at <a href=\"https://github.com/JuliaLang/julia/tree/cbe1bee3a8f27ba4f349556857bf4615ee5fa68f/base/mpfr.jl#L243\" target=\"_blank\">mpfr.jl:243</a><li> *(a::<b>BigFloat</b>, b::<b>BigFloat</b>, c::<b>BigFloat</b>) at <a href=\"https://github.com/JuliaLang/julia/tree/cbe1bee3a8f27ba4f349556857bf4615ee5fa68f/base/mpfr.jl#L379\" target=\"_blank\">mpfr.jl:379</a><li> *(a::<b>BigFloat</b>, b::<b>BigFloat</b>, c::<b>BigFloat</b>, d::<b>BigFloat</b>) at <a href=\"https://github.com/JuliaLang/julia/tree/cbe1bee3a8f27ba4f349556857bf4615ee5fa68f/base/mpfr.jl#L385\" target=\"_blank\">mpfr.jl:385</a><li> *(a::<b>BigFloat</b>, b::<b>BigFloat</b>, c::<b>BigFloat</b>, d::<b>BigFloat</b>, e::<b>BigFloat</b>) at <a href=\"https://github.com/JuliaLang/julia/tree/cbe1bee3a8f27ba4f349556857bf4615ee5fa68f/base/mpfr.jl#L392\" target=\"_blank\">mpfr.jl:392</a><li> *<i>{T<:Number}</i>(x::<b>T<:Number</b>, D::<b>Diagonal{T}</b>) at <a href=\"https://github.com/JuliaLang/julia/tree/cbe1bee3a8f27ba4f349556857bf4615ee5fa68f/base/linalg/diagonal.jl#L89\" target=\"_blank\">linalg/diagonal.jl:89</a><li> *(x::<b>Irrational{sym}</b>, y::<b>Irrational{sym}</b>) at <a href=\"https://github.com/JuliaLang/julia/tree/cbe1bee3a8f27ba4f349556857bf4615ee5fa68f/base/irrationals.jl#L72\" target=\"_blank\">irrationals.jl:72</a><li> *(y::<b>Real</b>, x::<b>Base.Dates.Period</b>) at <a href=\"https://github.com/JuliaLang/julia/tree/cbe1bee3a8f27ba4f349556857bf4615ee5fa68f/base/dates/periods.jl#L55\" target=\"_blank\">dates/periods.jl:55</a><li> *(x::<b>Number</b>) at <a href=\"https://github.com/JuliaLang/julia/tree/cbe1bee3a8f27ba4f349556857bf4615ee5fa68f/base/operators.jl#L74\" target=\"_blank\">operators.jl:74</a><li> *(y::<b>Number</b>, x::<b>Bool</b>) at <a href=\"https://github.com/JuliaLang/julia/tree/cbe1bee3a8f27ba4f349556857bf4615ee5fa68f/base/bool.jl#L55\" target=\"_blank\">bool.jl:55</a><li> *(x::<b>Int8</b>, y::<b>Int8</b>) at <a href=\"https://github.com/JuliaLang/julia/tree/cbe1bee3a8f27ba4f349556857bf4615ee5fa68f/base/int.jl#L19\" target=\"_blank\">int.jl:19</a><li> *(x::<b>UInt8</b>, y::<b>UInt8</b>) at <a href=\"https://github.com/JuliaLang/julia/tree/cbe1bee3a8f27ba4f349556857bf4615ee5fa68f/base/int.jl#L19\" target=\"_blank\">int.jl:19</a><li> *(x::<b>Int16</b>, y::<b>Int16</b>) at <a href=\"https://github.com/JuliaLang/julia/tree/cbe1bee3a8f27ba4f349556857bf4615ee5fa68f/base/int.jl#L19\" target=\"_blank\">int.jl:19</a><li> *(x::<b>UInt16</b>, y::<b>UInt16</b>) at <a href=\"https://github.com/JuliaLang/julia/tree/cbe1bee3a8f27ba4f349556857bf4615ee5fa68f/base/int.jl#L19\" target=\"_blank\">int.jl:19</a><li> *(x::<b>Int32</b>, y::<b>Int32</b>) at <a href=\"https://github.com/JuliaLang/julia/tree/cbe1bee3a8f27ba4f349556857bf4615ee5fa68f/base/int.jl#L19\" target=\"_blank\">int.jl:19</a><li> *(x::<b>UInt32</b>, y::<b>UInt32</b>) at <a href=\"https://github.com/JuliaLang/julia/tree/cbe1bee3a8f27ba4f349556857bf4615ee5fa68f/base/int.jl#L19\" target=\"_blank\">int.jl:19</a><li> *(x::<b>Int64</b>, y::<b>Int64</b>) at <a href=\"https://github.com/JuliaLang/julia/tree/cbe1bee3a8f27ba4f349556857bf4615ee5fa68f/base/int.jl#L19\" target=\"_blank\">int.jl:19</a><li> *(x::<b>UInt64</b>, y::<b>UInt64</b>) at <a href=\"https://github.com/JuliaLang/julia/tree/cbe1bee3a8f27ba4f349556857bf4615ee5fa68f/base/int.jl#L19\" target=\"_blank\">int.jl:19</a><li> *(x::<b>Int128</b>, y::<b>Int128</b>) at <a href=\"https://github.com/JuliaLang/julia/tree/cbe1bee3a8f27ba4f349556857bf4615ee5fa68f/base/int.jl#L456\" target=\"_blank\">int.jl:456</a><li> *(x::<b>UInt128</b>, y::<b>UInt128</b>) at <a href=\"https://github.com/JuliaLang/julia/tree/cbe1bee3a8f27ba4f349556857bf4615ee5fa68f/base/int.jl#L457\" target=\"_blank\">int.jl:457</a><li> *<i>{T<:Number}</i>(x::<b>T<:Number</b>, y::<b>T<:Number</b>) at <a href=\"https://github.com/JuliaLang/julia/tree/cbe1bee3a8f27ba4f349556857bf4615ee5fa68f/base/promotion.jl#L212\" target=\"_blank\">promotion.jl:212</a><li> *(x::<b>Number</b>, y::<b>Number</b>) at <a href=\"https://github.com/JuliaLang/julia/tree/cbe1bee3a8f27ba4f349556857bf4615ee5fa68f/base/promotion.jl#L168\" target=\"_blank\">promotion.jl:168</a><li> *<i>{T<:Union{Complex{Float32},Complex{Float64},Float32,Float64},S}</i>(A::<b>Union{DenseArray{T<:Union{Complex{Float32},Complex{Float64},Float32,Float64},2},SubArray{T<:Union{Complex{Float32},Complex{Float64},Float32,Float64},2,A<:DenseArray{T,N},I<:Tuple{Vararg{Union{Colon,Int64,Range{Int64}}}},LD}}</b>, x::<b>Union{DenseArray{S,1},SubArray{S,1,A<:DenseArray{T,N},I<:Tuple{Vararg{Union{Colon,Int64,Range{Int64}}}},LD}}</b>) at <a href=\"https://github.com/JuliaLang/julia/tree/cbe1bee3a8f27ba4f349556857bf4615ee5fa68f/base/linalg/matmul.jl#L81\" target=\"_blank\">linalg/matmul.jl:81</a><li> *(A::<b>SymTridiagonal{T}</b>, B::<b>Number</b>) at <a href=\"https://github.com/JuliaLang/julia/tree/cbe1bee3a8f27ba4f349556857bf4615ee5fa68f/base/linalg/tridiag.jl#L86\" target=\"_blank\">linalg/tridiag.jl:86</a><li> *(A::<b>Tridiagonal{T}</b>, B::<b>Number</b>) at <a href=\"https://github.com/JuliaLang/julia/tree/cbe1bee3a8f27ba4f349556857bf4615ee5fa68f/base/linalg/tridiag.jl#L406\" target=\"_blank\">linalg/tridiag.jl:406</a><li> *(A::<b>UpperTriangular{T,S<:AbstractArray{T,2}}</b>, x::<b>Number</b>) at <a href=\"https://github.com/JuliaLang/julia/tree/cbe1bee3a8f27ba4f349556857bf4615ee5fa68f/base/linalg/triangular.jl#L454\" target=\"_blank\">linalg/triangular.jl:454</a><li> *(A::<b>Base.LinAlg.UnitUpperTriangular{T,S<:AbstractArray{T,2}}</b>, x::<b>Number</b>) at <a href=\"https://github.com/JuliaLang/julia/tree/cbe1bee3a8f27ba4f349556857bf4615ee5fa68f/base/linalg/triangular.jl#L457\" target=\"_blank\">linalg/triangular.jl:457</a><li> *(A::<b>LowerTriangular{T,S<:AbstractArray{T,2}}</b>, x::<b>Number</b>) at <a href=\"https://github.com/JuliaLang/julia/tree/cbe1bee3a8f27ba4f349556857bf4615ee5fa68f/base/linalg/triangular.jl#L454\" target=\"_blank\">linalg/triangular.jl:454</a><li> *(A::<b>Base.LinAlg.UnitLowerTriangular{T,S<:AbstractArray{T,2}}</b>, x::<b>Number</b>) at <a href=\"https://github.com/JuliaLang/julia/tree/cbe1bee3a8f27ba4f349556857bf4615ee5fa68f/base/linalg/triangular.jl#L457\" target=\"_blank\">linalg/triangular.jl:457</a><li> *(A::<b>Tridiagonal{T}</b>, B::<b>UpperTriangular{T,S<:AbstractArray{T,2}}</b>) at <a href=\"https://github.com/JuliaLang/julia/tree/cbe1bee3a8f27ba4f349556857bf4615ee5fa68f/base/linalg/triangular.jl#L969\" target=\"_blank\">linalg/triangular.jl:969</a><li> *(A::<b>Tridiagonal{T}</b>, B::<b>Base.LinAlg.UnitUpperTriangular{T,S<:AbstractArray{T,2}}</b>) at <a href=\"https://github.com/JuliaLang/julia/tree/cbe1bee3a8f27ba4f349556857bf4615ee5fa68f/base/linalg/triangular.jl#L969\" target=\"_blank\">linalg/triangular.jl:969</a><li> *(A::<b>Tridiagonal{T}</b>, B::<b>LowerTriangular{T,S<:AbstractArray{T,2}}</b>) at <a href=\"https://github.com/JuliaLang/julia/tree/cbe1bee3a8f27ba4f349556857bf4615ee5fa68f/base/linalg/triangular.jl#L969\" target=\"_blank\">linalg/triangular.jl:969</a><li> *(A::<b>Tridiagonal{T}</b>, B::<b>Base.LinAlg.UnitLowerTriangular{T,S<:AbstractArray{T,2}}</b>) at <a href=\"https://github.com/JuliaLang/julia/tree/cbe1bee3a8f27ba4f349556857bf4615ee5fa68f/base/linalg/triangular.jl#L969\" target=\"_blank\">linalg/triangular.jl:969</a><li> *(A::<b>Base.LinAlg.AbstractTriangular{T,S<:AbstractArray{T,2}}</b>, B::<b>Base.LinAlg.AbstractTriangular{T,S<:AbstractArray{T,2}}</b>) at <a href=\"https://github.com/JuliaLang/julia/tree/cbe1bee3a8f27ba4f349556857bf4615ee5fa68f/base/linalg/triangular.jl#L975\" target=\"_blank\">linalg/triangular.jl:975</a><li> *<i>{TA,TB}</i>(A::<b>Base.LinAlg.AbstractTriangular{TA,S<:AbstractArray{T,2}}</b>, B::<b>Union{DenseArray{TB,1},DenseArray{TB,2},SubArray{TB,1,A<:DenseArray{T,N},I<:Tuple{Vararg{Union{Colon,Int64,Range{Int64}}}},LD},SubArray{TB,2,A<:DenseArray{T,N},I<:Tuple{Vararg{Union{Colon,Int64,Range{Int64}}}},LD}}</b>) at <a href=\"https://github.com/JuliaLang/julia/tree/cbe1bee3a8f27ba4f349556857bf4615ee5fa68f/base/linalg/triangular.jl#L989\" target=\"_blank\">linalg/triangular.jl:989</a><li> *<i>{TA,TB}</i>(A::<b>Union{DenseArray{TA,1},DenseArray{TA,2},SubArray{TA,1,A<:DenseArray{T,N},I<:Tuple{Vararg{Union{Colon,Int64,Range{Int64}}}},LD},SubArray{TA,2,A<:DenseArray{T,N},I<:Tuple{Vararg{Union{Colon,Int64,Range{Int64}}}},LD}}</b>, B::<b>Base.LinAlg.AbstractTriangular{TB,S<:AbstractArray{T,2}}</b>) at <a href=\"https://github.com/JuliaLang/julia/tree/cbe1bee3a8f27ba4f349556857bf4615ee5fa68f/base/linalg/triangular.jl#L1016\" target=\"_blank\">linalg/triangular.jl:1016</a><li> *<i>{TA,Tb}</i>(A::<b>Union{Base.LinAlg.QRCompactWYQ{TA,M<:AbstractArray{T,2}},Base.LinAlg.QRPackedQ{TA,S<:AbstractArray{T,2}}}</b>, b::<b>Union{DenseArray{Tb,1},SubArray{Tb,1,A<:DenseArray{T,N},I<:Tuple{Vararg{Union{Colon,Int64,Range{Int64}}}},LD}}</b>) at <a href=\"https://github.com/JuliaLang/julia/tree/cbe1bee3a8f27ba4f349556857bf4615ee5fa68f/base/linalg/qr.jl#L166\" target=\"_blank\">linalg/qr.jl:166</a><li> *<i>{TA,TB}</i>(A::<b>Union{Base.LinAlg.QRCompactWYQ{TA,M<:AbstractArray{T,2}},Base.LinAlg.QRPackedQ{TA,S<:AbstractArray{T,2}}}</b>, B::<b>Union{DenseArray{TB,2},SubArray{TB,2,A<:DenseArray{T,N},I<:Tuple{Vararg{Union{Colon,Int64,Range{Int64}}}},LD}}</b>) at <a href=\"https://github.com/JuliaLang/julia/tree/cbe1bee3a8f27ba4f349556857bf4615ee5fa68f/base/linalg/qr.jl#L178\" target=\"_blank\">linalg/qr.jl:178</a><li> *<i>{TA,TQ,N}</i>(A::<b>Union{DenseArray{TA,N},SubArray{TA,N,A<:DenseArray{T,N},I<:Tuple{Vararg{Union{Colon,Int64,Range{Int64}}}},LD}}</b>, Q::<b>Union{Base.LinAlg.QRCompactWYQ{TQ,M<:AbstractArray{T,2}},Base.LinAlg.QRPackedQ{TQ,S<:AbstractArray{T,2}}}</b>) at <a href=\"https://github.com/JuliaLang/julia/tree/cbe1bee3a8f27ba4f349556857bf4615ee5fa68f/base/linalg/qr.jl#L253\" target=\"_blank\">linalg/qr.jl:253</a><li> *(A::<b>Union{Hermitian{T,S},Symmetric{T,S}}</b>, B::<b>Union{Hermitian{T,S},Symmetric{T,S}}</b>) at <a href=\"https://github.com/JuliaLang/julia/tree/cbe1bee3a8f27ba4f349556857bf4615ee5fa68f/base/linalg/symmetric.jl#L117\" target=\"_blank\">linalg/symmetric.jl:117</a><li> *(A::<b>Union{DenseArray{T,2},SubArray{T,2,A<:DenseArray{T,N},I<:Tuple{Vararg{Union{Colon,Int64,Range{Int64}}}},LD}}</b>, B::<b>Union{Hermitian{T,S},Symmetric{T,S}}</b>) at <a href=\"https://github.com/JuliaLang/julia/tree/cbe1bee3a8f27ba4f349556857bf4615ee5fa68f/base/linalg/symmetric.jl#L118\" target=\"_blank\">linalg/symmetric.jl:118</a><li> *<i>{T<:Number}</i>(D::<b>Diagonal{T}</b>, x::<b>T<:Number</b>) at <a href=\"https://github.com/JuliaLang/julia/tree/cbe1bee3a8f27ba4f349556857bf4615ee5fa68f/base/linalg/diagonal.jl#L90\" target=\"_blank\">linalg/diagonal.jl:90</a><li> *(Da::<b>Diagonal{T}</b>, Db::<b>Diagonal{T}</b>) at <a href=\"https://github.com/JuliaLang/julia/tree/cbe1bee3a8f27ba4f349556857bf4615ee5fa68f/base/linalg/diagonal.jl#L92\" target=\"_blank\">linalg/diagonal.jl:92</a><li> *(D::<b>Diagonal{T}</b>, V::<b>Array{T,1}</b>) at <a href=\"https://github.com/JuliaLang/julia/tree/cbe1bee3a8f27ba4f349556857bf4615ee5fa68f/base/linalg/diagonal.jl#L93\" target=\"_blank\">linalg/diagonal.jl:93</a><li> *(A::<b>Array{T,2}</b>, D::<b>Diagonal{T}</b>) at <a href=\"https://github.com/JuliaLang/julia/tree/cbe1bee3a8f27ba4f349556857bf4615ee5fa68f/base/linalg/diagonal.jl#L94\" target=\"_blank\">linalg/diagonal.jl:94</a><li> *(D::<b>Diagonal{T}</b>, A::<b>Array{T,2}</b>) at <a href=\"https://github.com/JuliaLang/julia/tree/cbe1bee3a8f27ba4f349556857bf4615ee5fa68f/base/linalg/diagonal.jl#L95\" target=\"_blank\">linalg/diagonal.jl:95</a><li> *(A::<b>Bidiagonal{T}</b>, B::<b>Number</b>) at <a href=\"https://github.com/JuliaLang/julia/tree/cbe1bee3a8f27ba4f349556857bf4615ee5fa68f/base/linalg/bidiag.jl#L192\" target=\"_blank\">linalg/bidiag.jl:192</a><li> *(A::<b>Union{Base.LinAlg.AbstractTriangular{T,S<:AbstractArray{T,2}},Bidiagonal{T},Diagonal{T},SymTridiagonal{T},Tridiagonal{T}}</b>, B::<b>Union{Base.LinAlg.AbstractTriangular{T,S<:AbstractArray{T,2}},Bidiagonal{T},Diagonal{T},SymTridiagonal{T},Tridiagonal{T}}</b>) at <a href=\"https://github.com/JuliaLang/julia/tree/cbe1bee3a8f27ba4f349556857bf4615ee5fa68f/base/linalg/bidiag.jl#L198\" target=\"_blank\">linalg/bidiag.jl:198</a><li> *<i>{T}</i>(A::<b>Bidiagonal{T}</b>, B::<b>AbstractArray{T,1}</b>) at <a href=\"https://github.com/JuliaLang/julia/tree/cbe1bee3a8f27ba4f349556857bf4615ee5fa68f/base/linalg/bidiag.jl#L202\" target=\"_blank\">linalg/bidiag.jl:202</a><li> *(B::<b>BitArray{2}</b>, J::<b>UniformScaling{T<:Number}</b>) at <a href=\"https://github.com/JuliaLang/julia/tree/cbe1bee3a8f27ba4f349556857bf4615ee5fa68f/base/linalg/uniformscaling.jl#L122\" target=\"_blank\">linalg/uniformscaling.jl:122</a><li> *<i>{T,S}</i>(s::<b>Base.LinAlg.SVDOperator{T,S}</b>, v::<b>Array{T,1}</b>) at <a href=\"https://github.com/JuliaLang/julia/tree/cbe1bee3a8f27ba4f349556857bf4615ee5fa68f/base/linalg/arnoldi.jl#L261\" target=\"_blank\">linalg/arnoldi.jl:261</a><li> *(S::<b>SparseMatrixCSC{Tv,Ti<:Integer}</b>, J::<b>UniformScaling{T<:Number}</b>) at <a href=\"https://github.com/JuliaLang/julia/tree/cbe1bee3a8f27ba4f349556857bf4615ee5fa68f/base/sparse/linalg.jl#L23\" target=\"_blank\">sparse/linalg.jl:23</a><li> *<i>{Tv,Ti}</i>(A::<b>SparseMatrixCSC{Tv,Ti}</b>, B::<b>SparseMatrixCSC{Tv,Ti}</b>) at <a href=\"https://github.com/JuliaLang/julia/tree/cbe1bee3a8f27ba4f349556857bf4615ee5fa68f/base/sparse/linalg.jl#L108\" target=\"_blank\">sparse/linalg.jl:108</a><li> *<i>{TvA,TiA,TvB,TiB}</i>(A::<b>SparseMatrixCSC{TvA,TiA}</b>, B::<b>SparseMatrixCSC{TvB,TiB}</b>) at <a href=\"https://github.com/JuliaLang/julia/tree/cbe1bee3a8f27ba4f349556857bf4615ee5fa68f/base/sparse/linalg.jl#L29\" target=\"_blank\">sparse/linalg.jl:29</a><li> *<i>{TX,TvA,TiA}</i>(X::<b>Union{DenseArray{TX,2},SubArray{TX,2,A<:DenseArray{T,N},I<:Tuple{Vararg{Union{Colon,Int64,Range{Int64}}}},LD}}</b>, A::<b>SparseMatrixCSC{TvA,TiA}</b>) at <a href=\"https://github.com/JuliaLang/julia/tree/cbe1bee3a8f27ba4f349556857bf4615ee5fa68f/base/sparse/linalg.jl#L94\" target=\"_blank\">sparse/linalg.jl:94</a><li> *(A::<b>Base.SparseMatrix.CHOLMOD.Sparse{Tv<:Union{Complex{Float64},Float64}}</b>, B::<b>Base.SparseMatrix.CHOLMOD.Sparse{Tv<:Union{Complex{Float64},Float64}}</b>) at <a href=\"https://github.com/JuliaLang/julia/tree/cbe1bee3a8f27ba4f349556857bf4615ee5fa68f/base/sparse/cholmod.jl#L1142\" target=\"_blank\">sparse/cholmod.jl:1142</a><li> *(A::<b>Base.SparseMatrix.CHOLMOD.Sparse{Tv<:Union{Complex{Float64},Float64}}</b>, B::<b>Base.SparseMatrix.CHOLMOD.Dense{T<:Union{Complex{Float64},Float64}}</b>) at <a href=\"https://github.com/JuliaLang/julia/tree/cbe1bee3a8f27ba4f349556857bf4615ee5fa68f/base/sparse/cholmod.jl#L1143\" target=\"_blank\">sparse/cholmod.jl:1143</a><li> *(A::<b>Base.SparseMatrix.CHOLMOD.Sparse{Tv<:Union{Complex{Float64},Float64}}</b>, B::<b>Union{Array{T,1},Array{T,2}}</b>) at <a href=\"https://github.com/JuliaLang/julia/tree/cbe1bee3a8f27ba4f349556857bf4615ee5fa68f/base/sparse/cholmod.jl#L1144\" target=\"_blank\">sparse/cholmod.jl:1144</a><li> *<i>{Ti}</i>(A::<b>Symmetric{Float64,SparseMatrixCSC{Float64,Ti}}</b>, B::<b>SparseMatrixCSC{Float64,Ti}</b>) at <a href=\"https://github.com/JuliaLang/julia/tree/cbe1bee3a8f27ba4f349556857bf4615ee5fa68f/base/sparse/cholmod.jl#L1401\" target=\"_blank\">sparse/cholmod.jl:1401</a><li> *<i>{Ti}</i>(A::<b>Hermitian{Complex{Float64},SparseMatrixCSC{Complex{Float64},Ti}}</b>, B::<b>SparseMatrixCSC{Complex{Float64},Ti}</b>) at <a href=\"https://github.com/JuliaLang/julia/tree/cbe1bee3a8f27ba4f349556857bf4615ee5fa68f/base/sparse/cholmod.jl#L1402\" target=\"_blank\">sparse/cholmod.jl:1402</a><li> *<i>{T<:Number}</i>(x::<b>AbstractArray{T<:Number,2}</b>) at <a href=\"https://github.com/JuliaLang/julia/tree/cbe1bee3a8f27ba4f349556857bf4615ee5fa68f/base/abstractarraymath.jl#L50\" target=\"_blank\">abstractarraymath.jl:50</a><li> *(B::<b>Number</b>, A::<b>SymTridiagonal{T}</b>) at <a href=\"https://github.com/JuliaLang/julia/tree/cbe1bee3a8f27ba4f349556857bf4615ee5fa68f/base/linalg/tridiag.jl#L87\" target=\"_blank\">linalg/tridiag.jl:87</a><li> *(B::<b>Number</b>, A::<b>Tridiagonal{T}</b>) at <a href=\"https://github.com/JuliaLang/julia/tree/cbe1bee3a8f27ba4f349556857bf4615ee5fa68f/base/linalg/tridiag.jl#L407\" target=\"_blank\">linalg/tridiag.jl:407</a><li> *(x::<b>Number</b>, A::<b>UpperTriangular{T,S<:AbstractArray{T,2}}</b>) at <a href=\"https://github.com/JuliaLang/julia/tree/cbe1bee3a8f27ba4f349556857bf4615ee5fa68f/base/linalg/triangular.jl#L464\" target=\"_blank\">linalg/triangular.jl:464</a><li> *(x::<b>Number</b>, A::<b>Base.LinAlg.UnitUpperTriangular{T,S<:AbstractArray{T,2}}</b>) at <a href=\"https://github.com/JuliaLang/julia/tree/cbe1bee3a8f27ba4f349556857bf4615ee5fa68f/base/linalg/triangular.jl#L467\" target=\"_blank\">linalg/triangular.jl:467</a><li> *(x::<b>Number</b>, A::<b>LowerTriangular{T,S<:AbstractArray{T,2}}</b>) at <a href=\"https://github.com/JuliaLang/julia/tree/cbe1bee3a8f27ba4f349556857bf4615ee5fa68f/base/linalg/triangular.jl#L464\" target=\"_blank\">linalg/triangular.jl:464</a><li> *(x::<b>Number</b>, A::<b>Base.LinAlg.UnitLowerTriangular{T,S<:AbstractArray{T,2}}</b>) at <a href=\"https://github.com/JuliaLang/julia/tree/cbe1bee3a8f27ba4f349556857bf4615ee5fa68f/base/linalg/triangular.jl#L467\" target=\"_blank\">linalg/triangular.jl:467</a><li> *(B::<b>Number</b>, A::<b>Bidiagonal{T}</b>) at <a href=\"https://github.com/JuliaLang/julia/tree/cbe1bee3a8f27ba4f349556857bf4615ee5fa68f/base/linalg/bidiag.jl#L193\" target=\"_blank\">linalg/bidiag.jl:193</a><li> *(A::<b>Number</b>, B::<b>AbstractArray{T,N}</b>) at <a href=\"https://github.com/JuliaLang/julia/tree/cbe1bee3a8f27ba4f349556857bf4615ee5fa68f/base/abstractarraymath.jl#L54\" target=\"_blank\">abstractarraymath.jl:54</a><li> *(A::<b>AbstractArray{T,N}</b>, B::<b>Number</b>) at <a href=\"https://github.com/JuliaLang/julia/tree/cbe1bee3a8f27ba4f349556857bf4615ee5fa68f/base/abstractarraymath.jl#L55\" target=\"_blank\">abstractarraymath.jl:55</a><li> *(s1::<b>AbstractString</b>, ss::<b>AbstractString...</b>) at <a href=\"https://github.com/JuliaLang/julia/tree/cbe1bee3a8f27ba4f349556857bf4615ee5fa68f/base/strings/basic.jl#L50\" target=\"_blank\">strings/basic.jl:50</a><li> *(this::<b>Base.Grisu.Float</b>, other::<b>Base.Grisu.Float</b>) at <a href=\"https://github.com/JuliaLang/julia/tree/cbe1bee3a8f27ba4f349556857bf4615ee5fa68f/base/grisu/float.jl#L138\" target=\"_blank\">grisu/float.jl:138</a><li> *(index::<b>CartesianIndex{N}</b>, a::<b>Integer</b>) at <a href=\"https://github.com/JuliaLang/julia/tree/cbe1bee3a8f27ba4f349556857bf4615ee5fa68f/base/multidimensional.jl#L54\" target=\"_blank\">multidimensional.jl:54</a><li> *<i>{T,S}</i>(A::<b>AbstractArray{T,2}</b>, B::<b>Union{DenseArray{S,2},SubArray{S,2,A<:DenseArray{T,N},I<:Tuple{Vararg{Union{Colon,Int64,Range{Int64}}}},LD}}</b>) at <a href=\"https://github.com/JuliaLang/julia/tree/cbe1bee3a8f27ba4f349556857bf4615ee5fa68f/base/linalg/matmul.jl#L130\" target=\"_blank\">linalg/matmul.jl:130</a><li> *<i>{T,S}</i>(A::<b>AbstractArray{T,2}</b>, x::<b>AbstractArray{S,1}</b>) at <a href=\"https://github.com/JuliaLang/julia/tree/cbe1bee3a8f27ba4f349556857bf4615ee5fa68f/base/linalg/matmul.jl#L85\" target=\"_blank\">linalg/matmul.jl:85</a><li> *(A::<b>AbstractArray{T,1}</b>, B::<b>AbstractArray{T,2}</b>) at <a href=\"https://github.com/JuliaLang/julia/tree/cbe1bee3a8f27ba4f349556857bf4615ee5fa68f/base/linalg/matmul.jl#L88\" target=\"_blank\">linalg/matmul.jl:88</a><li> *(J1::<b>UniformScaling{T<:Number}</b>, J2::<b>UniformScaling{T<:Number}</b>) at <a href=\"https://github.com/JuliaLang/julia/tree/cbe1bee3a8f27ba4f349556857bf4615ee5fa68f/base/linalg/uniformscaling.jl#L121\" target=\"_blank\">linalg/uniformscaling.jl:121</a><li> *(J::<b>UniformScaling{T<:Number}</b>, B::<b>BitArray{2}</b>) at <a href=\"https://github.com/JuliaLang/julia/tree/cbe1bee3a8f27ba4f349556857bf4615ee5fa68f/base/linalg/uniformscaling.jl#L123\" target=\"_blank\">linalg/uniformscaling.jl:123</a><li> *(A::<b>AbstractArray{T,2}</b>, J::<b>UniformScaling{T<:Number}</b>) at <a href=\"https://github.com/JuliaLang/julia/tree/cbe1bee3a8f27ba4f349556857bf4615ee5fa68f/base/linalg/uniformscaling.jl#L124\" target=\"_blank\">linalg/uniformscaling.jl:124</a><li> *<i>{Tv,Ti}</i>(J::<b>UniformScaling{T<:Number}</b>, S::<b>SparseMatrixCSC{Tv,Ti}</b>) at <a href=\"https://github.com/JuliaLang/julia/tree/cbe1bee3a8f27ba4f349556857bf4615ee5fa68f/base/sparse/linalg.jl#L24\" target=\"_blank\">sparse/linalg.jl:24</a><li> *(J::<b>UniformScaling{T<:Number}</b>, A::<b>Union{AbstractArray{T,1},AbstractArray{T,2}}</b>) at <a href=\"https://github.com/JuliaLang/julia/tree/cbe1bee3a8f27ba4f349556857bf4615ee5fa68f/base/linalg/uniformscaling.jl#L125\" target=\"_blank\">linalg/uniformscaling.jl:125</a><li> *(x::<b>Number</b>, J::<b>UniformScaling{T<:Number}</b>) at <a href=\"https://github.com/JuliaLang/julia/tree/cbe1bee3a8f27ba4f349556857bf4615ee5fa68f/base/linalg/uniformscaling.jl#L127\" target=\"_blank\">linalg/uniformscaling.jl:127</a><li> *(J::<b>UniformScaling{T<:Number}</b>, x::<b>Number</b>) at <a href=\"https://github.com/JuliaLang/julia/tree/cbe1bee3a8f27ba4f349556857bf4615ee5fa68f/base/linalg/uniformscaling.jl#L128\" target=\"_blank\">linalg/uniformscaling.jl:128</a><li> *<i>{T,S}</i>(R::<b>Base.LinAlg.AbstractRotation{T}</b>, A::<b>Union{AbstractArray{S,1},AbstractArray{S,2}}</b>) at <a href=\"https://github.com/JuliaLang/julia/tree/cbe1bee3a8f27ba4f349556857bf4615ee5fa68f/base/linalg/givens.jl#L9\" target=\"_blank\">linalg/givens.jl:9</a><li> *<i>{T}</i>(G1::<b>Base.LinAlg.Givens{T}</b>, G2::<b>Base.LinAlg.Givens{T}</b>) at <a href=\"https://github.com/JuliaLang/julia/tree/cbe1bee3a8f27ba4f349556857bf4615ee5fa68f/base/linalg/givens.jl#L307\" target=\"_blank\">linalg/givens.jl:307</a><li> *(p::<b>Base.DFT.ScaledPlan{T,P,N}</b>, x::<b>AbstractArray{T,N}</b>) at <a href=\"https://github.com/JuliaLang/julia/tree/cbe1bee3a8f27ba4f349556857bf4615ee5fa68f/base/dft.jl#L262\" target=\"_blank\">dft.jl:262</a><li> *<i>{T,K,N}</i>(p::<b>Base.DFT.FFTW.cFFTWPlan{T,K,false,N}</b>, x::<b>Union{DenseArray{T,N},SubArray{T,N,A<:DenseArray{T,N},I<:Tuple{Vararg{Union{Colon,Int64,Range{Int64}}}},LD}}</b>) at <a href=\"https://github.com/JuliaLang/julia/tree/cbe1bee3a8f27ba4f349556857bf4615ee5fa68f/base/fft/FFTW.jl#L621\" target=\"_blank\">fft/FFTW.jl:621</a><li> *<i>{T,K}</i>(p::<b>Base.DFT.FFTW.cFFTWPlan{T,K,true,N}</b>, x::<b>Union{DenseArray{T,N},SubArray{T,N,A<:DenseArray{T,N},I<:Tuple{Vararg{Union{Colon,Int64,Range{Int64}}}},LD}}</b>) at <a href=\"https://github.com/JuliaLang/julia/tree/cbe1bee3a8f27ba4f349556857bf4615ee5fa68f/base/fft/FFTW.jl#L628\" target=\"_blank\">fft/FFTW.jl:628</a><li> *<i>{N}</i>(p::<b>Base.DFT.FFTW.rFFTWPlan{Float32,-1,false,N}</b>, x::<b>Union{DenseArray{Float32,N},SubArray{Float32,N,A<:DenseArray{T,N},I<:Tuple{Vararg{Union{Colon,Int64,Range{Int64}}}},LD}}</b>) at <a href=\"https://github.com/JuliaLang/julia/tree/cbe1bee3a8f27ba4f349556857bf4615ee5fa68f/base/fft/FFTW.jl#L698\" target=\"_blank\">fft/FFTW.jl:698</a><li> *<i>{N}</i>(p::<b>Base.DFT.FFTW.rFFTWPlan{Complex{Float32},1,false,N}</b>, x::<b>Union{DenseArray{Complex{Float32},N},SubArray{Complex{Float32},N,A<:DenseArray{T,N},I<:Tuple{Vararg{Union{Colon,Int64,Range{Int64}}}},LD}}</b>) at <a href=\"https://github.com/JuliaLang/julia/tree/cbe1bee3a8f27ba4f349556857bf4615ee5fa68f/base/fft/FFTW.jl#L705\" target=\"_blank\">fft/FFTW.jl:705</a><li> *<i>{N}</i>(p::<b>Base.DFT.FFTW.rFFTWPlan{Float64,-1,false,N}</b>, x::<b>Union{DenseArray{Float64,N},SubArray{Float64,N,A<:DenseArray{T,N},I<:Tuple{Vararg{Union{Colon,Int64,Range{Int64}}}},LD}}</b>) at <a href=\"https://github.com/JuliaLang/julia/tree/cbe1bee3a8f27ba4f349556857bf4615ee5fa68f/base/fft/FFTW.jl#L698\" target=\"_blank\">fft/FFTW.jl:698</a><li> *<i>{N}</i>(p::<b>Base.DFT.FFTW.rFFTWPlan{Complex{Float64},1,false,N}</b>, x::<b>Union{DenseArray{Complex{Float64},N},SubArray{Complex{Float64},N,A<:DenseArray{T,N},I<:Tuple{Vararg{Union{Colon,Int64,Range{Int64}}}},LD}}</b>) at <a href=\"https://github.com/JuliaLang/julia/tree/cbe1bee3a8f27ba4f349556857bf4615ee5fa68f/base/fft/FFTW.jl#L705\" target=\"_blank\">fft/FFTW.jl:705</a><li> *<i>{T,K,N}</i>(p::<b>Base.DFT.FFTW.r2rFFTWPlan{T,K,false,N}</b>, x::<b>Union{DenseArray{T,N},SubArray{T,N,A<:DenseArray{T,N},I<:Tuple{Vararg{Union{Colon,Int64,Range{Int64}}}},LD}}</b>) at <a href=\"https://github.com/JuliaLang/julia/tree/cbe1bee3a8f27ba4f349556857bf4615ee5fa68f/base/fft/FFTW.jl#L866\" target=\"_blank\">fft/FFTW.jl:866</a><li> *<i>{T,K}</i>(p::<b>Base.DFT.FFTW.r2rFFTWPlan{T,K,true,N}</b>, x::<b>Union{DenseArray{T,N},SubArray{T,N,A<:DenseArray{T,N},I<:Tuple{Vararg{Union{Colon,Int64,Range{Int64}}}},LD}}</b>) at <a href=\"https://github.com/JuliaLang/julia/tree/cbe1bee3a8f27ba4f349556857bf4615ee5fa68f/base/fft/FFTW.jl#L873\" target=\"_blank\">fft/FFTW.jl:873</a><li> *<i>{T}</i>(p::<b>Base.DFT.FFTW.DCTPlan{T,5,false}</b>, x::<b>Union{DenseArray{T,N},SubArray{T,N,A<:DenseArray{T,N},I<:Tuple{Vararg{Union{Colon,Int64,Range{Int64}}}},LD}}</b>) at <a href=\"https://github.com/JuliaLang/julia/tree/cbe1bee3a8f27ba4f349556857bf4615ee5fa68f/base/fft/dct.jl#L188\" target=\"_blank\">fft/dct.jl:188</a><li> *<i>{T}</i>(p::<b>Base.DFT.FFTW.DCTPlan{T,4,false}</b>, x::<b>Union{DenseArray{T,N},SubArray{T,N,A<:DenseArray{T,N},I<:Tuple{Vararg{Union{Colon,Int64,Range{Int64}}}},LD}}</b>) at <a href=\"https://github.com/JuliaLang/julia/tree/cbe1bee3a8f27ba4f349556857bf4615ee5fa68f/base/fft/dct.jl#L191\" target=\"_blank\">fft/dct.jl:191</a><li> *<i>{T,K}</i>(p::<b>Base.DFT.FFTW.DCTPlan{T,K,true}</b>, x::<b>Union{DenseArray{T,N},SubArray{T,N,A<:DenseArray{T,N},I<:Tuple{Vararg{Union{Colon,Int64,Range{Int64}}}},LD}}</b>) at <a href=\"https://github.com/JuliaLang/julia/tree/cbe1bee3a8f27ba4f349556857bf4615ee5fa68f/base/fft/dct.jl#L194\" target=\"_blank\">fft/dct.jl:194</a><li> *<i>{T}</i>(p::<b>Base.DFT.Plan{T}</b>, x::<b>AbstractArray{T,N}</b>) at <a href=\"https://github.com/JuliaLang/julia/tree/cbe1bee3a8f27ba4f349556857bf4615ee5fa68f/base/dft.jl#L221\" target=\"_blank\">dft.jl:221</a><li> *(α::<b>Number</b>, p::<b>Base.DFT.Plan{T}</b>) at <a href=\"https://github.com/JuliaLang/julia/tree/cbe1bee3a8f27ba4f349556857bf4615ee5fa68f/base/dft.jl#L264\" target=\"_blank\">dft.jl:264</a><li> *(p::<b>Base.DFT.Plan{T}</b>, α::<b>Number</b>) at <a href=\"https://github.com/JuliaLang/julia/tree/cbe1bee3a8f27ba4f349556857bf4615ee5fa68f/base/dft.jl#L265\" target=\"_blank\">dft.jl:265</a><li> *(I::<b>UniformScaling{T<:Number}</b>, p::<b>Base.DFT.ScaledPlan{T,P,N}</b>) at <a href=\"https://github.com/JuliaLang/julia/tree/cbe1bee3a8f27ba4f349556857bf4615ee5fa68f/base/dft.jl#L266\" target=\"_blank\">dft.jl:266</a><li> *(p::<b>Base.DFT.ScaledPlan{T,P,N}</b>, I::<b>UniformScaling{T<:Number}</b>) at <a href=\"https://github.com/JuliaLang/julia/tree/cbe1bee3a8f27ba4f349556857bf4615ee5fa68f/base/dft.jl#L267\" target=\"_blank\">dft.jl:267</a><li> *(I::<b>UniformScaling{T<:Number}</b>, p::<b>Base.DFT.Plan{T}</b>) at <a href=\"https://github.com/JuliaLang/julia/tree/cbe1bee3a8f27ba4f349556857bf4615ee5fa68f/base/dft.jl#L268\" target=\"_blank\">dft.jl:268</a><li> *(p::<b>Base.DFT.Plan{T}</b>, I::<b>UniformScaling{T<:Number}</b>) at <a href=\"https://github.com/JuliaLang/julia/tree/cbe1bee3a8f27ba4f349556857bf4615ee5fa68f/base/dft.jl#L269\" target=\"_blank\">dft.jl:269</a><li> *<i>{P<:Base.Dates.Period}</i>(x::<b>P<:Base.Dates.Period</b>, y::<b>Real</b>) at <a href=\"https://github.com/JuliaLang/julia/tree/cbe1bee3a8f27ba4f349556857bf4615ee5fa68f/base/dates/periods.jl#L54\" target=\"_blank\">dates/periods.jl:54</a><li> *(a, b, c, xs...) at <a href=\"https://github.com/JuliaLang/julia/tree/cbe1bee3a8f27ba4f349556857bf4615ee5fa68f/base/operators.jl#L103\" target=\"_blank\">operators.jl:103</a></ul>"
      ],
      "text/plain": [
       "# 138 methods for generic function \"*\":\n",
       "*(x::Bool, y::Bool) at bool.jl:38\n",
       "*{T<:Unsigned}(x::Bool, y::T<:Unsigned) at bool.jl:53\n",
       "*(x::Bool, z::Complex{Bool}) at complex.jl:122\n",
       "*(x::Bool, z::Complex{T<:Real}) at complex.jl:129\n",
       "*{T<:Number}(x::Bool, y::T<:Number) at bool.jl:49\n",
       "*(x::Float32, y::Float32) at float.jl:207\n",
       "*(x::Float64, y::Float64) at float.jl:208\n",
       "*(z::Complex{T<:Real}, w::Complex{T<:Real}) at complex.jl:113\n",
       "*(z::Complex{Bool}, x::Bool) at complex.jl:123\n",
       "*(z::Complex{T<:Real}, x::Bool) at complex.jl:130\n",
       "*(x::Real, z::Complex{Bool}) at complex.jl:140\n",
       "*(z::Complex{Bool}, x::Real) at complex.jl:141\n",
       "*(x::Real, z::Complex{T<:Real}) at complex.jl:152\n",
       "*(z::Complex{T<:Real}, x::Real) at complex.jl:153\n",
       "*(x::Rational{T<:Integer}, y::Rational{T<:Integer}) at rational.jl:186\n",
       "*(a::Float16, b::Float16) at float16.jl:136\n",
       "*{N}(a::Integer, index::CartesianIndex{N}) at multidimensional.jl:50\n",
       "*(x::BigInt, y::BigInt) at gmp.jl:256\n",
       "*(a::BigInt, b::BigInt, c::BigInt) at gmp.jl:279\n",
       "*(a::BigInt, b::BigInt, c::BigInt, d::BigInt) at gmp.jl:285\n",
       "*(a::BigInt, b::BigInt, c::BigInt, d::BigInt, e::BigInt) at gmp.jl:292\n",
       "*(x::BigInt, c::Union{UInt16,UInt32,UInt64,UInt8}) at gmp.jl:326\n",
       "*(c::Union{UInt16,UInt32,UInt64,UInt8}, x::BigInt) at gmp.jl:330\n",
       "*(x::BigInt, c::Union{Int16,Int32,Int64,Int8}) at gmp.jl:332\n",
       "*(c::Union{Int16,Int32,Int64,Int8}, x::BigInt) at gmp.jl:336\n",
       "*(x::BigFloat, y::BigFloat) at mpfr.jl:208\n",
       "*(x::BigFloat, c::Union{UInt16,UInt32,UInt64,UInt8}) at mpfr.jl:215\n",
       "*(c::Union{UInt16,UInt32,UInt64,UInt8}, x::BigFloat) at mpfr.jl:219\n",
       "*(x::BigFloat, c::Union{Int16,Int32,Int64,Int8}) at mpfr.jl:223\n",
       "*(c::Union{Int16,Int32,Int64,Int8}, x::BigFloat) at mpfr.jl:227\n",
       "*(x::BigFloat, c::Union{Float16,Float32,Float64}) at mpfr.jl:231\n",
       "*(c::Union{Float16,Float32,Float64}, x::BigFloat) at mpfr.jl:235\n",
       "*(x::BigFloat, c::BigInt) at mpfr.jl:239\n",
       "*(c::BigInt, x::BigFloat) at mpfr.jl:243\n",
       "*(a::BigFloat, b::BigFloat, c::BigFloat) at mpfr.jl:379\n",
       "*(a::BigFloat, b::BigFloat, c::BigFloat, d::BigFloat) at mpfr.jl:385\n",
       "*(a::BigFloat, b::BigFloat, c::BigFloat, d::BigFloat, e::BigFloat) at mpfr.jl:392\n",
       "*{T<:Number}(x::T<:Number, D::Diagonal{T}) at linalg/diagonal.jl:89\n",
       "*(x::Irrational{sym}, y::Irrational{sym}) at irrationals.jl:72\n",
       "*(y::Real, x::Base.Dates.Period) at dates/periods.jl:55\n",
       "*(x::Number) at operators.jl:74\n",
       "*(y::Number, x::Bool) at bool.jl:55\n",
       "*(x::Int8, y::Int8) at int.jl:19\n",
       "*(x::UInt8, y::UInt8) at int.jl:19\n",
       "*(x::Int16, y::Int16) at int.jl:19\n",
       "*(x::UInt16, y::UInt16) at int.jl:19\n",
       "*(x::Int32, y::Int32) at int.jl:19\n",
       "*(x::UInt32, y::UInt32) at int.jl:19\n",
       "*(x::Int64, y::Int64) at int.jl:19\n",
       "*(x::UInt64, y::UInt64) at int.jl:19\n",
       "*(x::Int128, y::Int128) at int.jl:456\n",
       "*(x::UInt128, y::UInt128) at int.jl:457\n",
       "*{T<:Number}(x::T<:Number, y::T<:Number) at promotion.jl:212\n",
       "*(x::Number, y::Number) at promotion.jl:168\n",
       "*{T<:Union{Complex{Float32},Complex{Float64},Float32,Float64},S}(A::Union{DenseArray{T<:Union{Complex{Float32},Complex{Float64},Float32,Float64},2},SubArray{T<:Union{Complex{Float32},Complex{Float64},Float32,Float64},2,A<:DenseArray{T,N},I<:Tuple{Vararg{Union{Colon,Int64,Range{Int64}}}},LD}}, x::Union{DenseArray{S,1},SubArray{S,1,A<:DenseArray{T,N},I<:Tuple{Vararg{Union{Colon,Int64,Range{Int64}}}},LD}}) at linalg/matmul.jl:81\n",
       "*(A::SymTridiagonal{T}, B::Number) at linalg/tridiag.jl:86\n",
       "*(A::Tridiagonal{T}, B::Number) at linalg/tridiag.jl:406\n",
       "*(A::UpperTriangular{T,S<:AbstractArray{T,2}}, x::Number) at linalg/triangular.jl:454\n",
       "*(A::Base.LinAlg.UnitUpperTriangular{T,S<:AbstractArray{T,2}}, x::Number) at linalg/triangular.jl:457\n",
       "*(A::LowerTriangular{T,S<:AbstractArray{T,2}}, x::Number) at linalg/triangular.jl:454\n",
       "*(A::Base.LinAlg.UnitLowerTriangular{T,S<:AbstractArray{T,2}}, x::Number) at linalg/triangular.jl:457\n",
       "*(A::Tridiagonal{T}, B::UpperTriangular{T,S<:AbstractArray{T,2}}) at linalg/triangular.jl:969\n",
       "*(A::Tridiagonal{T}, B::Base.LinAlg.UnitUpperTriangular{T,S<:AbstractArray{T,2}}) at linalg/triangular.jl:969\n",
       "*(A::Tridiagonal{T}, B::LowerTriangular{T,S<:AbstractArray{T,2}}) at linalg/triangular.jl:969\n",
       "*(A::Tridiagonal{T}, B::Base.LinAlg.UnitLowerTriangular{T,S<:AbstractArray{T,2}}) at linalg/triangular.jl:969\n",
       "*(A::Base.LinAlg.AbstractTriangular{T,S<:AbstractArray{T,2}}, B::Base.LinAlg.AbstractTriangular{T,S<:AbstractArray{T,2}}) at linalg/triangular.jl:975\n",
       "*{TA,TB}(A::Base.LinAlg.AbstractTriangular{TA,S<:AbstractArray{T,2}}, B::Union{DenseArray{TB,1},DenseArray{TB,2},SubArray{TB,1,A<:DenseArray{T,N},I<:Tuple{Vararg{Union{Colon,Int64,Range{Int64}}}},LD},SubArray{TB,2,A<:DenseArray{T,N},I<:Tuple{Vararg{Union{Colon,Int64,Range{Int64}}}},LD}}) at linalg/triangular.jl:989\n",
       "*{TA,TB}(A::Union{DenseArray{TA,1},DenseArray{TA,2},SubArray{TA,1,A<:DenseArray{T,N},I<:Tuple{Vararg{Union{Colon,Int64,Range{Int64}}}},LD},SubArray{TA,2,A<:DenseArray{T,N},I<:Tuple{Vararg{Union{Colon,Int64,Range{Int64}}}},LD}}, B::Base.LinAlg.AbstractTriangular{TB,S<:AbstractArray{T,2}}) at linalg/triangular.jl:1016\n",
       "*{TA,Tb}(A::Union{Base.LinAlg.QRCompactWYQ{TA,M<:AbstractArray{T,2}},Base.LinAlg.QRPackedQ{TA,S<:AbstractArray{T,2}}}, b::Union{DenseArray{Tb,1},SubArray{Tb,1,A<:DenseArray{T,N},I<:Tuple{Vararg{Union{Colon,Int64,Range{Int64}}}},LD}}) at linalg/qr.jl:166\n",
       "*{TA,TB}(A::Union{Base.LinAlg.QRCompactWYQ{TA,M<:AbstractArray{T,2}},Base.LinAlg.QRPackedQ{TA,S<:AbstractArray{T,2}}}, B::Union{DenseArray{TB,2},SubArray{TB,2,A<:DenseArray{T,N},I<:Tuple{Vararg{Union{Colon,Int64,Range{Int64}}}},LD}}) at linalg/qr.jl:178\n",
       "*{TA,TQ,N}(A::Union{DenseArray{TA,N},SubArray{TA,N,A<:DenseArray{T,N},I<:Tuple{Vararg{Union{Colon,Int64,Range{Int64}}}},LD}}, Q::Union{Base.LinAlg.QRCompactWYQ{TQ,M<:AbstractArray{T,2}},Base.LinAlg.QRPackedQ{TQ,S<:AbstractArray{T,2}}}) at linalg/qr.jl:253\n",
       "*(A::Union{Hermitian{T,S},Symmetric{T,S}}, B::Union{Hermitian{T,S},Symmetric{T,S}}) at linalg/symmetric.jl:117\n",
       "*(A::Union{DenseArray{T,2},SubArray{T,2,A<:DenseArray{T,N},I<:Tuple{Vararg{Union{Colon,Int64,Range{Int64}}}},LD}}, B::Union{Hermitian{T,S},Symmetric{T,S}}) at linalg/symmetric.jl:118\n",
       "*{T<:Number}(D::Diagonal{T}, x::T<:Number) at linalg/diagonal.jl:90\n",
       "*(Da::Diagonal{T}, Db::Diagonal{T}) at linalg/diagonal.jl:92\n",
       "*(D::Diagonal{T}, V::Array{T,1}) at linalg/diagonal.jl:93\n",
       "*(A::Array{T,2}, D::Diagonal{T}) at linalg/diagonal.jl:94\n",
       "*(D::Diagonal{T}, A::Array{T,2}) at linalg/diagonal.jl:95\n",
       "*(A::Bidiagonal{T}, B::Number) at linalg/bidiag.jl:192\n",
       "*(A::Union{Base.LinAlg.AbstractTriangular{T,S<:AbstractArray{T,2}},Bidiagonal{T},Diagonal{T},SymTridiagonal{T},Tridiagonal{T}}, B::Union{Base.LinAlg.AbstractTriangular{T,S<:AbstractArray{T,2}},Bidiagonal{T},Diagonal{T},SymTridiagonal{T},Tridiagonal{T}}) at linalg/bidiag.jl:198\n",
       "*{T}(A::Bidiagonal{T}, B::AbstractArray{T,1}) at linalg/bidiag.jl:202\n",
       "*(B::BitArray{2}, J::UniformScaling{T<:Number}) at linalg/uniformscaling.jl:122\n",
       "*{T,S}(s::Base.LinAlg.SVDOperator{T,S}, v::Array{T,1}) at linalg/arnoldi.jl:261\n",
       "*(S::SparseMatrixCSC{Tv,Ti<:Integer}, J::UniformScaling{T<:Number}) at sparse/linalg.jl:23\n",
       "*{Tv,Ti}(A::SparseMatrixCSC{Tv,Ti}, B::SparseMatrixCSC{Tv,Ti}) at sparse/linalg.jl:108\n",
       "*{TvA,TiA,TvB,TiB}(A::SparseMatrixCSC{TvA,TiA}, B::SparseMatrixCSC{TvB,TiB}) at sparse/linalg.jl:29\n",
       "*{TX,TvA,TiA}(X::Union{DenseArray{TX,2},SubArray{TX,2,A<:DenseArray{T,N},I<:Tuple{Vararg{Union{Colon,Int64,Range{Int64}}}},LD}}, A::SparseMatrixCSC{TvA,TiA}) at sparse/linalg.jl:94\n",
       "*(A::Base.SparseMatrix.CHOLMOD.Sparse{Tv<:Union{Complex{Float64},Float64}}, B::Base.SparseMatrix.CHOLMOD.Sparse{Tv<:Union{Complex{Float64},Float64}}) at sparse/cholmod.jl:1142\n",
       "*(A::Base.SparseMatrix.CHOLMOD.Sparse{Tv<:Union{Complex{Float64},Float64}}, B::Base.SparseMatrix.CHOLMOD.Dense{T<:Union{Complex{Float64},Float64}}) at sparse/cholmod.jl:1143\n",
       "*(A::Base.SparseMatrix.CHOLMOD.Sparse{Tv<:Union{Complex{Float64},Float64}}, B::Union{Array{T,1},Array{T,2}}) at sparse/cholmod.jl:1144\n",
       "*{Ti}(A::Symmetric{Float64,SparseMatrixCSC{Float64,Ti}}, B::SparseMatrixCSC{Float64,Ti}) at sparse/cholmod.jl:1401\n",
       "*{Ti}(A::Hermitian{Complex{Float64},SparseMatrixCSC{Complex{Float64},Ti}}, B::SparseMatrixCSC{Complex{Float64},Ti}) at sparse/cholmod.jl:1402\n",
       "*{T<:Number}(x::AbstractArray{T<:Number,2}) at abstractarraymath.jl:50\n",
       "*(B::Number, A::SymTridiagonal{T}) at linalg/tridiag.jl:87\n",
       "*(B::Number, A::Tridiagonal{T}) at linalg/tridiag.jl:407\n",
       "*(x::Number, A::UpperTriangular{T,S<:AbstractArray{T,2}}) at linalg/triangular.jl:464\n",
       "*(x::Number, A::Base.LinAlg.UnitUpperTriangular{T,S<:AbstractArray{T,2}}) at linalg/triangular.jl:467\n",
       "*(x::Number, A::LowerTriangular{T,S<:AbstractArray{T,2}}) at linalg/triangular.jl:464\n",
       "*(x::Number, A::Base.LinAlg.UnitLowerTriangular{T,S<:AbstractArray{T,2}}) at linalg/triangular.jl:467\n",
       "*(B::Number, A::Bidiagonal{T}) at linalg/bidiag.jl:193\n",
       "*(A::Number, B::AbstractArray{T,N}) at abstractarraymath.jl:54\n",
       "*(A::AbstractArray{T,N}, B::Number) at abstractarraymath.jl:55\n",
       "*(s1::AbstractString, ss::AbstractString...) at strings/basic.jl:50\n",
       "*(this::Base.Grisu.Float, other::Base.Grisu.Float) at grisu/float.jl:138\n",
       "*(index::CartesianIndex{N}, a::Integer) at multidimensional.jl:54\n",
       "*{T,S}(A::AbstractArray{T,2}, B::Union{DenseArray{S,2},SubArray{S,2,A<:DenseArray{T,N},I<:Tuple{Vararg{Union{Colon,Int64,Range{Int64}}}},LD}}) at linalg/matmul.jl:130\n",
       "*{T,S}(A::AbstractArray{T,2}, x::AbstractArray{S,1}) at linalg/matmul.jl:85\n",
       "*(A::AbstractArray{T,1}, B::AbstractArray{T,2}) at linalg/matmul.jl:88\n",
       "*(J1::UniformScaling{T<:Number}, J2::UniformScaling{T<:Number}) at linalg/uniformscaling.jl:121\n",
       "*(J::UniformScaling{T<:Number}, B::BitArray{2}) at linalg/uniformscaling.jl:123\n",
       "*(A::AbstractArray{T,2}, J::UniformScaling{T<:Number}) at linalg/uniformscaling.jl:124\n",
       "*{Tv,Ti}(J::UniformScaling{T<:Number}, S::SparseMatrixCSC{Tv,Ti}) at sparse/linalg.jl:24\n",
       "*(J::UniformScaling{T<:Number}, A::Union{AbstractArray{T,1},AbstractArray{T,2}}) at linalg/uniformscaling.jl:125\n",
       "*(x::Number, J::UniformScaling{T<:Number}) at linalg/uniformscaling.jl:127\n",
       "*(J::UniformScaling{T<:Number}, x::Number) at linalg/uniformscaling.jl:128\n",
       "*{T,S}(R::Base.LinAlg.AbstractRotation{T}, A::Union{AbstractArray{S,1},AbstractArray{S,2}}) at linalg/givens.jl:9\n",
       "*{T}(G1::Base.LinAlg.Givens{T}, G2::Base.LinAlg.Givens{T}) at linalg/givens.jl:307\n",
       "*(p::Base.DFT.ScaledPlan{T,P,N}, x::AbstractArray{T,N}) at dft.jl:262\n",
       "*{T,K,N}(p::Base.DFT.FFTW.cFFTWPlan{T,K,false,N}, x::Union{DenseArray{T,N},SubArray{T,N,A<:DenseArray{T,N},I<:Tuple{Vararg{Union{Colon,Int64,Range{Int64}}}},LD}}) at fft/FFTW.jl:621\n",
       "*{T,K}(p::Base.DFT.FFTW.cFFTWPlan{T,K,true,N}, x::Union{DenseArray{T,N},SubArray{T,N,A<:DenseArray{T,N},I<:Tuple{Vararg{Union{Colon,Int64,Range{Int64}}}},LD}}) at fft/FFTW.jl:628\n",
       "*{N}(p::Base.DFT.FFTW.rFFTWPlan{Float32,-1,false,N}, x::Union{DenseArray{Float32,N},SubArray{Float32,N,A<:DenseArray{T,N},I<:Tuple{Vararg{Union{Colon,Int64,Range{Int64}}}},LD}}) at fft/FFTW.jl:698\n",
       "*{N}(p::Base.DFT.FFTW.rFFTWPlan{Complex{Float32},1,false,N}, x::Union{DenseArray{Complex{Float32},N},SubArray{Complex{Float32},N,A<:DenseArray{T,N},I<:Tuple{Vararg{Union{Colon,Int64,Range{Int64}}}},LD}}) at fft/FFTW.jl:705\n",
       "*{N}(p::Base.DFT.FFTW.rFFTWPlan{Float64,-1,false,N}, x::Union{DenseArray{Float64,N},SubArray{Float64,N,A<:DenseArray{T,N},I<:Tuple{Vararg{Union{Colon,Int64,Range{Int64}}}},LD}}) at fft/FFTW.jl:698\n",
       "*{N}(p::Base.DFT.FFTW.rFFTWPlan{Complex{Float64},1,false,N}, x::Union{DenseArray{Complex{Float64},N},SubArray{Complex{Float64},N,A<:DenseArray{T,N},I<:Tuple{Vararg{Union{Colon,Int64,Range{Int64}}}},LD}}) at fft/FFTW.jl:705\n",
       "*{T,K,N}(p::Base.DFT.FFTW.r2rFFTWPlan{T,K,false,N}, x::Union{DenseArray{T,N},SubArray{T,N,A<:DenseArray{T,N},I<:Tuple{Vararg{Union{Colon,Int64,Range{Int64}}}},LD}}) at fft/FFTW.jl:866\n",
       "*{T,K}(p::Base.DFT.FFTW.r2rFFTWPlan{T,K,true,N}, x::Union{DenseArray{T,N},SubArray{T,N,A<:DenseArray{T,N},I<:Tuple{Vararg{Union{Colon,Int64,Range{Int64}}}},LD}}) at fft/FFTW.jl:873\n",
       "*{T}(p::Base.DFT.FFTW.DCTPlan{T,5,false}, x::Union{DenseArray{T,N},SubArray{T,N,A<:DenseArray{T,N},I<:Tuple{Vararg{Union{Colon,Int64,Range{Int64}}}},LD}}) at fft/dct.jl:188\n",
       "*{T}(p::Base.DFT.FFTW.DCTPlan{T,4,false}, x::Union{DenseArray{T,N},SubArray{T,N,A<:DenseArray{T,N},I<:Tuple{Vararg{Union{Colon,Int64,Range{Int64}}}},LD}}) at fft/dct.jl:191\n",
       "*{T,K}(p::Base.DFT.FFTW.DCTPlan{T,K,true}, x::Union{DenseArray{T,N},SubArray{T,N,A<:DenseArray{T,N},I<:Tuple{Vararg{Union{Colon,Int64,Range{Int64}}}},LD}}) at fft/dct.jl:194\n",
       "*{T}(p::Base.DFT.Plan{T}, x::AbstractArray{T,N}) at dft.jl:221\n",
       "*(α::Number, p::Base.DFT.Plan{T}) at dft.jl:264\n",
       "*(p::Base.DFT.Plan{T}, α::Number) at dft.jl:265\n",
       "*(I::UniformScaling{T<:Number}, p::Base.DFT.ScaledPlan{T,P,N}) at dft.jl:266\n",
       "*(p::Base.DFT.ScaledPlan{T,P,N}, I::UniformScaling{T<:Number}) at dft.jl:267\n",
       "*(I::UniformScaling{T<:Number}, p::Base.DFT.Plan{T}) at dft.jl:268\n",
       "*(p::Base.DFT.Plan{T}, I::UniformScaling{T<:Number}) at dft.jl:269\n",
       "*{P<:Base.Dates.Period}(x::P<:Base.Dates.Period, y::Real) at dates/periods.jl:54\n",
       "*(a, b, c, xs...) at operators.jl:103"
      ]
     },
     "execution_count": 8,
     "metadata": {},
     "output_type": "execute_result"
    }
   ],
   "source": [
    "methods(*)"
   ]
  },
  {
   "cell_type": "markdown",
   "metadata": {},
   "source": [
    "This allows defining the most efficient methods for various combinations, e.g.\n",
    "* `*(x::Real, z::Complex)`: is implemented more efficiently than first converting `x` to a complex number (requiring only 2 multiplications).\n",
    "* `*(x::Matrix, y::Matrix)`: can be defined for general types (e.g. `Rational`, `BigFloat`)\n",
    "* `*(x::Matrix{Float64}, y::Matrix{Float64})` can have a specific method for exploiting efficient BLAS routines.\n",
    "* `*(x::QRPackedQ, y::Matrix)`: allows efficient multiplication by the Q matrix from a QR factorisation stored as its Householder reflectors."
   ]
  },
  {
   "cell_type": "markdown",
   "metadata": {},
   "source": [
    "* `@which` shows which method is called for a particular signature\n",
    "* `@less` shows the code of the method called \n",
    "\n",
    "(`@` denotes a macro: more on these later)."
   ]
  },
  {
   "cell_type": "code",
   "execution_count": 9,
   "metadata": {
    "collapsed": false
   },
   "outputs": [
    {
     "data": {
      "text/html": [
       "*(x::<b>Float64</b>, y::<b>Float64</b>) at <a href=\"https://github.com/JuliaLang/julia/tree/cbe1bee3a8f27ba4f349556857bf4615ee5fa68f/base/float.jl#L208\" target=\"_blank\">float.jl:208</a>"
      ],
      "text/plain": [
       "*(x::Float64, y::Float64) at float.jl:208"
      ]
     },
     "execution_count": 9,
     "metadata": {},
     "output_type": "execute_result"
    }
   ],
   "source": [
    "@which 1.0*2.0"
   ]
  },
  {
   "cell_type": "code",
   "execution_count": 10,
   "metadata": {
    "collapsed": false
   },
   "outputs": [
    {
     "data": {
      "text/html": [
       "*<i>{T,S}</i>(A::<b>AbstractArray{T,2}</b>, B::<b>Union{DenseArray{S,2},SubArray{S,2,A<:DenseArray{T,N},I<:Tuple{Vararg{Union{Colon,Int64,Range{Int64}}}},LD}}</b>) at <a href=\"https://github.com/JuliaLang/julia/tree/cbe1bee3a8f27ba4f349556857bf4615ee5fa68f/base/linalg/matmul.jl#L130\" target=\"_blank\">linalg/matmul.jl:130</a>"
      ],
      "text/plain": [
       "*{T,S}(A::AbstractArray{T,2}, B::Union{DenseArray{S,2},SubArray{S,2,A<:DenseArray{T,N},I<:Tuple{Vararg{Union{Colon,Int64,Range{Int64}}}},LD}}) at linalg/matmul.jl:130"
      ]
     },
     "execution_count": 10,
     "metadata": {},
     "output_type": "execute_result"
    }
   ],
   "source": [
    "@which randn(10,10)*randn(10,10)"
   ]
  },
  {
   "cell_type": "code",
   "execution_count": 11,
   "metadata": {
    "collapsed": false
   },
   "outputs": [
    {
     "data": {
      "text/html": [
       "*(A::<b>Number</b>, B::<b>AbstractArray{T,N}</b>) at <a href=\"https://github.com/JuliaLang/julia/tree/cbe1bee3a8f27ba4f349556857bf4615ee5fa68f/base/abstractarraymath.jl#L54\" target=\"_blank\">abstractarraymath.jl:54</a>"
      ],
      "text/plain": [
       "*(A::Number, B::AbstractArray{T,N}) at abstractarraymath.jl:54"
      ]
     },
     "execution_count": 11,
     "metadata": {},
     "output_type": "execute_result"
    }
   ],
   "source": [
    "@which 1.0*randn(10,10)"
   ]
  },
  {
   "cell_type": "markdown",
   "metadata": {},
   "source": [
    "> **Performance note**: The type signatures used in the definition of methods are used *only* to determine dispatch (i.e. which method is chosen), they have no impact on compilation. A JIT compilation pass is run for each *call signature* used, regardless of the signature used in the definition."
   ]
  },
  {
   "cell_type": "markdown",
   "metadata": {},
   "source": [
    "When defining new methods for existing functions you need to import them first. If the function is in `Base` (the Julia built-ins), you first need to:\n",
    "\n",
    "```julia\n",
    "import Base.fn\n",
    "```\n",
    "or\n",
    "```julia\n",
    "import Base: fn1, fn2, fn3\n",
    "```\n",
    "for multiple functions.\n",
    "\n",
    "> **Exercise:** define a new multiplication method `*` for your `PolarComplex` type."
   ]
  },
  {
   "cell_type": "code",
   "execution_count": 12,
   "metadata": {
    "collapsed": true
   },
   "outputs": [],
   "source": [
    "immutable PolarComplex <: Number\n",
    "    abs::Float64\n",
    "    arg::Float64\n",
    "end\n",
    "\n",
    "import Base.*"
   ]
  },
  {
   "cell_type": "code",
   "execution_count": 13,
   "metadata": {
    "collapsed": false
   },
   "outputs": [
    {
     "data": {
      "text/plain": [
       "* (generic function with 139 methods)"
      ]
     },
     "execution_count": 13,
     "metadata": {},
     "output_type": "execute_result"
    }
   ],
   "source": [
    "*(x::PolarComplex, y::PolarComplex) = PolarComplex(x.abs*y.abs, x.arg+y.arg)"
   ]
  },
  {
   "cell_type": "code",
   "execution_count": 14,
   "metadata": {
    "collapsed": false
   },
   "outputs": [
    {
     "data": {
      "text/plain": [
       "PolarComplex(2.0,1.0)"
      ]
     },
     "execution_count": 14,
     "metadata": {},
     "output_type": "execute_result"
    }
   ],
   "source": [
    "PolarComplex(1,0)*PolarComplex(2,1)"
   ]
  },
  {
   "cell_type": "markdown",
   "metadata": {},
   "source": [
    "Parameters can be used to define method for parametric types such as arrays:"
   ]
  },
  {
   "cell_type": "code",
   "execution_count": 15,
   "metadata": {
    "collapsed": false
   },
   "outputs": [
    {
     "data": {
      "text/plain": [
       "f (generic function with 7 methods)"
      ]
     },
     "execution_count": 15,
     "metadata": {},
     "output_type": "execute_result"
    }
   ],
   "source": [
    "f{T<:Real}(X::Vector{T}) = \"$X is an array of reals.\"\n",
    "f{T<:Integer}(X::Vector{T}) = \"$X is an array of integers.\"\n",
    "f(X::Vector) = \"$X is an array.\" # no parameter is required"
   ]
  },
  {
   "cell_type": "code",
   "execution_count": 16,
   "metadata": {
    "collapsed": false
   },
   "outputs": [
    {
     "data": {
      "text/plain": [
       "\"[1,2] is an array of integers.\""
      ]
     },
     "execution_count": 16,
     "metadata": {},
     "output_type": "execute_result"
    }
   ],
   "source": [
    "f([1,2])"
   ]
  },
  {
   "cell_type": "code",
   "execution_count": 17,
   "metadata": {
    "collapsed": false
   },
   "outputs": [
    {
     "data": {
      "text/plain": [
       "\"Any[1,\\\"b\\\"] is an array.\""
      ]
     },
     "execution_count": 17,
     "metadata": {},
     "output_type": "execute_result"
    }
   ],
   "source": [
    "f([1,\"b\"])"
   ]
  },
  {
   "cell_type": "markdown",
   "metadata": {},
   "source": [
    "Note that Julia types are *invariant*, which means that `Vector{Float64}` is **not** a subtype of `Vector{Real}`.\n",
    "\n",
    "There is a special `Type{T}` wrapper to dispatch on type values (as opposed to instances of types). In this case, we can omit the argument altogether as it typically isn't needed."
   ]
  },
  {
   "cell_type": "code",
   "execution_count": 18,
   "metadata": {
    "collapsed": false
   },
   "outputs": [
    {
     "data": {
      "text/plain": [
       "f (generic function with 8 methods)"
      ]
     },
     "execution_count": 18,
     "metadata": {},
     "output_type": "execute_result"
    }
   ],
   "source": [
    "f(::Type{Float64}) = \"the argument is a type: Float64\""
   ]
  },
  {
   "cell_type": "code",
   "execution_count": 19,
   "metadata": {
    "collapsed": false
   },
   "outputs": [
    {
     "data": {
      "text/plain": [
       "\"the argument is a type: Float64\""
      ]
     },
     "execution_count": 19,
     "metadata": {},
     "output_type": "execute_result"
    }
   ],
   "source": [
    "f(Float64)"
   ]
  },
  {
   "cell_type": "markdown",
   "metadata": {},
   "source": [
    "The `convert` function uses this extensively: the first argument is the desired output type, the second is the input value:"
   ]
  },
  {
   "cell_type": "code",
   "execution_count": 16,
   "metadata": {
    "collapsed": false
   },
   "outputs": [
    {
     "data": {
      "text/plain": [
       "1.0"
      ]
     },
     "execution_count": 16,
     "metadata": {},
     "output_type": "execute_result"
    }
   ],
   "source": [
    "convert(Float64,1)"
   ]
  },
  {
   "cell_type": "code",
   "execution_count": 17,
   "metadata": {
    "collapsed": false
   },
   "outputs": [
    {
     "data": {
      "text/html": [
       "convert(::<b>Type{Float64}</b>, x::<b>Int64</b>) at <a href=\"https://github.com/JuliaLang/julia/tree/cbe1bee3a8f27ba4f349556857bf4615ee5fa68f/base/float.jl#L24\" target=\"_blank\">float.jl:24</a>"
      ],
      "text/plain": [
       "convert(::Type{Float64}, x::Int64) at float.jl:24"
      ]
     },
     "execution_count": 17,
     "metadata": {},
     "output_type": "execute_result"
    }
   ],
   "source": [
    "@which convert(Float64,1)"
   ]
  },
  {
   "cell_type": "code",
   "execution_count": null,
   "metadata": {
    "collapsed": true
   },
   "outputs": [],
   "source": [
    "f(x) # equivalent to f(x::Any)"
   ]
  },
  {
   "cell_type": "markdown",
   "metadata": {},
   "source": [
    "### Default arguments\n",
    "\n",
    "Default arguments (for positional values) can be provided by `=` after the argument (and type if used):\n",
    "\n",
    "```julia\n",
    "g(x::Float64, y::Float64=1.0) = ...\n",
    "```\n",
    "\n",
    "is equivalent to\n",
    "\n",
    "```julia\n",
    "g(x::Float64, y::Float64) = ...\n",
    "g(x::Float64) = g(x,1.0)\n",
    "```\n",
    "\n",
    "### Keyword arguments\n",
    "\n",
    "Keyword arguments are separated from the positional arguments by a semicolon:\n",
    "\n",
    "```julia\n",
    "h(x::Float64; y::Float64=1.0) = ...\n",
    "```\n",
    "\n",
    "Note that:\n",
    "* Keyword arguments *must* have a default value\n",
    "* Keyword arguments are not used for dispatch: the type signature is just a hint to the compiler\n",
    "* At the moment, there can be a bit of a performance penalty if no type signature is provided.\n",
    "\n",
    "The semicolon is optional when called, i.e. either `h(1.0; y=2.0)` or `h(1.0, y=2.0)` is valid.\n",
    "\n",
    "### Varargs\n",
    "\n",
    "Both positional and keyword arguments support variable numbers of arguments via `...`, e.g.\n",
    "\n",
    "```julia\n",
    "k(x...;y...) = ...\n",
    "```\n",
    "accepts any number of positional and keyword arguments.\n"
   ]
  },
  {
   "cell_type": "markdown",
   "metadata": {},
   "source": [
    "## Anonymous functions\n",
    "\n",
    "There is also a simpler *anonymous function* object: these are analogous to lambdas in Python, and are defined using the \"arrow syntax\":"
   ]
  },
  {
   "cell_type": "code",
   "execution_count": 18,
   "metadata": {
    "collapsed": false
   },
   "outputs": [
    {
     "data": {
      "text/plain": [
       "(anonymous function)"
      ]
     },
     "execution_count": 18,
     "metadata": {},
     "output_type": "execute_result"
    }
   ],
   "source": [
    "x -> x + 2"
   ]
  },
  {
   "cell_type": "markdown",
   "metadata": {},
   "source": [
    "Anonymous functions don't support type signatures or dispatch, but are simpler to write out. Typically these are used as arguments to other functions:"
   ]
  },
  {
   "cell_type": "code",
   "execution_count": 20,
   "metadata": {
    "collapsed": false
   },
   "outputs": [
    {
     "data": {
      "text/plain": [
       "14-element Array{Int64,1}:\n",
       "  4\n",
       " 11\n",
       " 18\n",
       " 25\n",
       " 32\n",
       " 39\n",
       " 46\n",
       " 53\n",
       " 60\n",
       " 67\n",
       " 74\n",
       " 81\n",
       " 88\n",
       " 95"
      ]
     },
     "execution_count": 20,
     "metadata": {},
     "output_type": "execute_result"
    }
   ],
   "source": [
    "filter(x -> mod(x,7)==4, 1:100)"
   ]
  },
  {
   "cell_type": "markdown",
   "metadata": {},
   "source": [
    "> **Performance note:** at the moment, anonymous functions are slower than generic functions as they aren't JIT compiled (though this should change in the next version)."
   ]
  },
  {
   "cell_type": "code",
   "execution_count": null,
   "metadata": {
    "collapsed": true
   },
   "outputs": [],
   "source": []
  }
 ],
 "metadata": {
  "kernelspec": {
   "display_name": "Julia 0.4.1",
   "language": "julia",
   "name": "julia-0.4"
  },
  "language_info": {
   "file_extension": ".jl",
   "mimetype": "application/julia",
   "name": "julia",
   "version": "0.4.1"
  }
 },
 "nbformat": 4,
 "nbformat_minor": 0
}
