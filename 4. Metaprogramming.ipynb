{
 "cells": [
  {
   "cell_type": "markdown",
   "metadata": {},
   "source": [
    "# 4. Metaprogramming\n",
    "\n",
    "Julia has extensive support of *metaprogramming*, that is, writing programs that generate other programs.\n",
    "\n",
    "Julia expressions are actually Julia objects:"
   ]
  },
  {
   "cell_type": "code",
   "execution_count": 1,
   "metadata": {
    "collapsed": false
   },
   "outputs": [
    {
     "data": {
      "text/plain": [
       ":(sin(x) + 2)"
      ]
     },
     "execution_count": 1,
     "metadata": {},
     "output_type": "execute_result"
    }
   ],
   "source": [
    "ex = :(sin(x)+2) # : quotes the expression; can also use \"quote\" blocks"
   ]
  },
  {
   "cell_type": "code",
   "execution_count": 2,
   "metadata": {
    "collapsed": false
   },
   "outputs": [
    {
     "data": {
      "text/plain": [
       "Expr"
      ]
     },
     "execution_count": 2,
     "metadata": {},
     "output_type": "execute_result"
    }
   ],
   "source": [
    "typeof(ex)"
   ]
  },
  {
   "cell_type": "code",
   "execution_count": 3,
   "metadata": {
    "collapsed": false
   },
   "outputs": [
    {
     "data": {
      "text/plain": [
       "3-element Array{Any,1}:\n",
       "  :+       \n",
       "  :(sin(x))\n",
       " 2         "
      ]
     },
     "execution_count": 3,
     "metadata": {},
     "output_type": "execute_result"
    }
   ],
   "source": [
    "ex.args"
   ]
  },
  {
   "cell_type": "markdown",
   "metadata": {},
   "source": [
    "*Macros* are functions that are applied to expressions that in turn generate other expressions. This is then evaluated"
   ]
  },
  {
   "cell_type": "code",
   "execution_count": 4,
   "metadata": {
    "collapsed": true
   },
   "outputs": [],
   "source": [
    "macro mytime(ex)\n",
    "    quote\n",
    "        start = time()\n",
    "        result = $ex\n",
    "        stop = time()\n",
    "        println(\"time: $(stop-start)\")\n",
    "        result\n",
    "    end\n",
    "end"
   ]
  },
  {
   "cell_type": "code",
   "execution_count": 5,
   "metadata": {
    "collapsed": false
   },
   "outputs": [
    {
     "name": "stdout",
     "output_type": "stream",
     "text": [
      "time: 0.336475133895874\n"
     ]
    },
    {
     "data": {
      "text/plain": [
       "100x100 Array{Float64,2}:\n",
       "   7.72472   -14.3001    -16.9959    …   12.8474    -14.461      8.95708 \n",
       "  20.8511     -7.51564   -23.9604       -17.1929    -11.1617     3.43598 \n",
       " -14.3937     -6.77555   -10.7198         5.17217    11.1341     3.09725 \n",
       "   9.30111     7.60315    16.1225        -9.19503    13.9317     1.28764 \n",
       " -17.8591     -1.42329    14.3127        -5.07546    12.6713    -0.13409 \n",
       "  -7.06515   -10.8714    -19.7221    …    3.03264    -8.54072   -6.12143 \n",
       "  -7.06014   -16.6314      9.35889       11.4512      2.71412    5.49121 \n",
       "   1.37385    -3.38068     2.43165      -12.6005     -6.39555    6.05296 \n",
       "  -5.25616    -0.81159    13.2049         1.17888    23.6282   -15.7371  \n",
       "   3.94413   -10.2881      0.62758        9.82849     2.54196    8.55863 \n",
       "   6.09697    -1.56714     2.29207   …  -15.2402     -8.26491   -2.76765 \n",
       "  -6.32338     3.51781   -12.437         -5.41805     7.76032   -1.26709 \n",
       "   8.75663    -7.34429     7.41944       -7.28665   -13.8579   -14.2513  \n",
       "   ⋮                                 ⋱                                   \n",
       "   1.34596   -10.0559      3.2757        -5.6396     14.5816    11.7557  \n",
       "  -1.00889    29.4102    -11.2253        -1.8218      6.04673   -1.68937 \n",
       "  10.7201     -1.90063     0.773496  …    1.5285      3.2692    -9.16032 \n",
       "   4.20359    -3.60746     1.13346       -5.76399    14.0555    -0.787458\n",
       " -16.8729     -2.35076    24.7277        -0.225135    3.40054    5.78659 \n",
       "   1.25722    20.6324     -5.52958       -3.56485   -25.8318    13.3319  \n",
       "   3.18172    -4.37958   -12.03           2.34747     1.53325    8.16864 \n",
       "   0.137288   -4.02931     5.25381   …   -5.6107     -3.36509   12.2346  \n",
       "  -9.67391     0.289432  -11.5802       -17.9902     14.3586    -2.6771  \n",
       "  -0.042486  -12.7893     -2.18677       -5.5113     -2.55874   -9.01844 \n",
       "   7.63589    -3.30988     0.904655       1.7897     -3.94815   -2.48867 \n",
       "  -8.66907   -10.6265     -1.35419      -13.3609     -8.93621    0.737831"
      ]
     },
     "execution_count": 5,
     "metadata": {},
     "output_type": "execute_result"
    }
   ],
   "source": [
    "@mytime randn(100,100)*randn(100,100)"
   ]
  },
  {
   "cell_type": "markdown",
   "metadata": {},
   "source": [
    "Julia actually provides its own better `@time` macro:"
   ]
  },
  {
   "cell_type": "code",
   "execution_count": 6,
   "metadata": {
    "collapsed": false
   },
   "outputs": [
    {
     "name": "stdout",
     "output_type": "stream",
     "text": [
      "  "
     ]
    },
    {
     "data": {
      "text/plain": [
       "100x100 Array{Float64,2}:\n",
       "   7.36264    -5.16124    18.057     …   -2.3356    -10.4512      0.165903\n",
       "  -6.14068     9.71974    -4.32236        1.32647     0.893908   -8.11686 \n",
       "   3.28929     1.87309    -9.27867      -13.7467     -1.86668    -4.86062 \n",
       "   7.61304     1.98826   -25.5106         3.9299     16.471      10.9223  \n",
       " -13.4652      1.62118    -6.10506      -11.8424     10.0018      1.66526 \n",
       "  10.0503     -3.75963    -7.44916   …    5.91258     7.94444    10.2287  \n",
       "   4.02165     4.4828     21.5808         3.50921   -11.1794      4.8188  \n",
       "  -8.35946   -11.2699     11.8912       -15.7424      8.46971    21.2659  \n",
       "  -2.67029    -6.74865    -6.00476       -5.01066    -7.57555     2.76123 \n",
       "  10.7131      2.25174     3.14949       11.0037      3.86552     0.28695 \n",
       "   7.77808    -9.73809   -12.2528    …   -3.29164    20.2487      7.12755 \n",
       "  -3.10852    -3.64188    -9.86743        3.61898     7.24032    13.4142  \n",
       "   6.00907     0.389224  -10.2726        -2.89122   -12.7742     -3.40151 \n",
       "   ⋮                                 ⋱                                    \n",
       "  -0.972366   -6.32127    17.9667        -9.85159    10.659      20.2252  \n",
       "   9.31666    13.7948      2.51709       -6.2235     27.9533      2.10983 \n",
       "  -6.44853    21.39       14.0066    …   13.9696      5.90139    -3.87277 \n",
       "  -0.279384  -14.9942     18.8101         2.80826     2.33578     3.27107 \n",
       "  -2.12448    -3.02981     0.880284      -3.58998    -3.12348    -3.41216 \n",
       "  10.8419     -9.3522     -1.25189       16.142      12.665      12.0096  \n",
       "   2.21794   -20.8394      9.66952       -8.93511    -0.962036  -14.5018  \n",
       "   5.46194    -6.15722   -12.6344    …   -4.0077     -4.34784   -24.5669  \n",
       "  -1.33933    13.6702     -5.92421       -4.70994    12.6038    -11.923   \n",
       "   0.225587   -0.329192   12.4646        11.5669    -14.3221      9.13945 \n",
       "  22.3221    -14.0084    -17.4847         0.192401   -2.24886   -10.7438  \n",
       "  -4.81481     7.07689    -8.25307       26.1915      2.71302   -12.5072  "
      ]
     },
     "execution_count": 6,
     "metadata": {},
     "output_type": "execute_result"
    }
   ],
   "source": [
    "@time randn(100,100)*randn(100,100)"
   ]
  },
  {
   "cell_type": "markdown",
   "metadata": {},
   "source": [
    "Metaprogramming is extremely powerful, but a bit of a dark art (for example, you have to be careful of *hygiene*, that is, not modifying symbols defined elsewhere).\n",
    "\n",
    "I find the `macroexpand` function useful to figure out what is going on:"
   ]
  },
  {
   "cell_type": "code",
   "execution_count": 7,
   "metadata": {
    "collapsed": false
   },
   "outputs": [
    {
     "data": {
      "text/plain": [
       "quote  # In[4], line 3:\n",
       "    #56#start = time() # In[4], line 4:\n",
       "    #57#result = sin(x) # In[4], line 5:\n",
       "    #58#stop = time() # In[4], line 6:\n",
       "    println(\"time: $(#58#stop - #56#start)\") # In[4], line 7:\n",
       "    #57#result\n",
       "end"
      ]
     },
     "execution_count": 7,
     "metadata": {},
     "output_type": "execute_result"
    }
   ],
   "source": [
    "macroexpand(:(@mytime sin(x)))"
   ]
  },
  {
   "cell_type": "markdown",
   "metadata": {},
   "source": [
    "> **Exercise**: write a macro that prints the values of the inputs to a function, and returns the result e.g.\n",
    "> \n",
    "> `@printinput sin(x)`\n",
    "> \n",
    "> should print the value of `x`, then return the result of `sin(x)`.\n",
    "\n",
    "Some particularly useful macros included in Julia:\n",
    "* `@time`, `@elapsed` for evaluating performance\n",
    "* `@printf` for formatted printing\n",
    "* `@code_warntype` for finding type unstable functions\n",
    "* `@label`/`@goto` for when you wish you were using Fortran (or just want to translate code)."
   ]
  },
  {
   "cell_type": "code",
   "execution_count": 2,
   "metadata": {
    "collapsed": false
   },
   "outputs": [
    {
     "name": "stdout",
     "output_type": "stream",
     "text": [
      "0.100000000000000005551115123125782702118158340454101562500000"
     ]
    }
   ],
   "source": [
    "@printf \"%.60f\" 0.1"
   ]
  },
  {
   "cell_type": "code",
   "execution_count": 8,
   "metadata": {
    "collapsed": false
   },
   "outputs": [
    {
     "name": "stdout",
     "output_type": "stream",
     "text": [
      "0.000407 seconds (155 allocations: 244.745 KB)\n"
     ]
    },
    {
     "data": {
      "text/plain": [
       "harmonicmean1 (generic function with 1 method)"
      ]
     },
     "execution_count": 8,
     "metadata": {},
     "output_type": "execute_result"
    }
   ],
   "source": [
    "function harmonicmean1(X)\n",
    "    s = 0\n",
    "    for x in X\n",
    "        s += 1/x\n",
    "    end\n",
    "    1/s\n",
    "end"
   ]
  },
  {
   "cell_type": "code",
   "execution_count": 9,
   "metadata": {
    "collapsed": false
   },
   "outputs": [
    {
     "name": "stdout",
     "output_type": "stream",
     "text": [
      "Variables:\n",
      "  X::Array{Float64,1}\n",
      "  s::ANY\n",
      "  #s41::Int64\n",
      "  x::Float64\n",
      "\n",
      "Body:\n",
      "  begin  # In[8], line 2:\n",
      "      s = 0 # In[8], line 3:\n",
      "      #s41 = 1\n",
      "      GenSym(2) = (Base"
     ]
    }
   ],
   "source": [
    "X = rand(1_000_000)\n",
    "@code_warntype harmonicmean1(X)"
   ]
  },
  {
   "cell_type": "code",
   "execution_count": 10,
   "metadata": {
    "collapsed": false
   },
   "outputs": [
    {
     "name": "stdout",
     "output_type": "stream",
     "text": [
      ".arraylen)(X::Array{Float64,1})::Int64\n",
      "      unless (Base.box)(Base.Bool,(Base.not_int)(#s41::Int64 === (Base.box)(Base.Int,(Base.add_int)(GenSym(2),1))::Bool)) goto 1\n",
      "      2: \n",
      "      GenSym(4) = (Base.arrayref)(X::Array{Float64,1},#s41::Int64)::Float64\n",
      "      GenSym(5) = (Base.box)(Base.Int,(Base.add_int)(#s41::Int64,1))\n",
      "      x = GenSym(4)\n",
      "      #s41 = GenSym(5) # In[8], line 4:\n",
      "      s = s::UNION{FLOAT64,INT64} + (Base.box)(Base.Float64,(Base.div_float)((Base.box)(Float64,(Base.sitofp)(Float64,1)),x::Float64))::Float64\n",
      "      3: \n",
      "      GenSym(3) = (Base.arraylen)(X::Array{Float64,1})::Int64\n",
      "      unless (Base.box)(Base.Bool,(Base.not_int)((Base.box)(Base.Bool,(Base.not_int)(#s41::Int64 === (Base.box)(Base.Int,(Base.add_int)(GenSym(3),1))::Bool)))) goto 2\n",
      "      1: \n",
      "      0:  # In[8], line 6:\n",
      "      return 1 / s::UNION{FLOAT64,INT64}::Float64\n",
      "  end::Float64\n",
      "  "
     ]
    },
    {
     "data": {
      "text/plain": [
       "7.205045769493674e-8"
      ]
     },
     "execution_count": 10,
     "metadata": {},
     "output_type": "execute_result"
    }
   ],
   "source": [
    "@time harmonicmean1(X)\n",
    "@time harmonicmean1(X)"
   ]
  },
  {
   "cell_type": "code",
   "execution_count": 11,
   "metadata": {
    "collapsed": false
   },
   "outputs": [
    {
     "name": "stdout",
     "output_type": "stream",
     "text": [
      "0.057201 seconds (2.00 M allocations: 30.529 MB, 14.43% gc time)\n",
      "  0.036930 seconds (2.00 M allocations: 30.518 MB, 10.99% gc time)\n"
     ]
    },
    {
     "data": {
      "text/plain": [
       "harmonicmean2 (generic function with 1 method)"
      ]
     },
     "execution_count": 11,
     "metadata": {},
     "output_type": "execute_result"
    }
   ],
   "source": [
    "function harmonicmean2(X)\n",
    "    s = 0.0\n",
    "    for x in X\n",
    "        s += 1/x\n",
    "    end\n",
    "    1/s\n",
    "end"
   ]
  },
  {
   "cell_type": "code",
   "execution_count": 12,
   "metadata": {
    "collapsed": false
   },
   "outputs": [
    {
     "name": "stdout",
     "output_type": "stream",
     "text": [
      "Variables:\n"
     ]
    }
   ],
   "source": [
    "@code_warntype harmonicmean2(X)"
   ]
  },
  {
   "cell_type": "code",
   "execution_count": 13,
   "metadata": {
    "collapsed": false
   },
   "outputs": [
    {
     "data": {
      "text/plain": [
       "7.205045769493674e-8"
      ]
     },
     "execution_count": 13,
     "metadata": {},
     "output_type": "execute_result"
    }
   ],
   "source": [
    "@time harmonicmean2(X)\n",
    "@time harmonicmean2(X)"
   ]
  },
  {
   "cell_type": "markdown",
   "metadata": {},
   "source": [
    "## What happens under the hood\n",
    "\n",
    "1. Parsing: syntax is parsed (see `parse` function)\n",
    " - Macros are expanded\n",
    "2. Code lowering: this is a simplified syntax (see `@code_lowered`)\n",
    " - `a += a` is changed to `a = a + b`\n",
    " - loops are replaced with gotos\n",
    "3. Type inference (see `@code_typed`)\n",
    " - tries to infer the type of each object\n",
    " - decides which method should be dispatched\n",
    "4. LLVM code generation (`@code_llvm`)\n",
    " - generates LLVM IR (intermediate representation) code\n",
    " - some initial optimisation passes \n",
    "5. Machine code (`@code_native`)\n",
    " - machine-specific optimisations\n",
    " - assembly code generation\n",
    "\n",
    "\n",
    "\n"
   ]
  },
  {
   "cell_type": "code",
   "execution_count": 14,
   "metadata": {
    "collapsed": false
   },
   "outputs": [
    {
     "data": {
      "text/plain": [
       "1-element Array{Any,1}:\n",
       " :($(Expr(:lambda, Any[:X], Any[Any[Any[:X,:Any,0],Any[:s,:Any,2],Any[symbol(\"#s41\"),:Any,2],Any[:x,:Any,18]],Any[],2,Any[]], :(begin  # In[11], line 2:\n",
       "        s = 0.0 # In[11], line 3:\n",
       "        GenSym(0) = X\n",
       "        #s41 = (top(start))(GenSym(0))\n",
       "        unless (top(!))((top(done))(GenSym(0),#s41)) goto 1\n",
       "        2: \n",
       "        GenSym(1) = (top(next))(GenSym(0),#s41)\n",
       "        x = (top(getfield))(GenSym(1),1)\n",
       "        #s41 = (top(getfield))(GenSym(1),2) # In[11], line 4:\n",
       "        s = s + 1 / x\n",
       "        3: \n",
       "        unless (top(!))((top(!))((top(done))(GenSym(0),#s41))) goto 2\n",
       "        1: \n",
       "        0:  # In[11], line 6:\n",
       "        return 1 / s\n",
       "    end))))"
      ]
     },
     "execution_count": 14,
     "metadata": {},
     "output_type": "execute_result"
    }
   ],
   "source": [
    "@code_lowered harmonicmean2(X)"
   ]
  },
  {
   "cell_type": "code",
   "execution_count": 15,
   "metadata": {
    "collapsed": false
   },
   "outputs": [
    {
     "name": "stdout",
     "output_type": "stream",
     "text": [
      "  X::Array{Float64,1}\n",
      "  s::Float64\n",
      "  #s41::Int64\n",
      "  x::Float64\n",
      "\n",
      "Body:\n",
      "  begin  # In[11], line 2:\n",
      "      s = 0.0 # In[11], line 3:\n",
      "      #s41 = 1\n",
      "      GenSym(2) = (Base.arraylen)(X::Array{Float64,1})::Int64\n",
      "      unless (Base.box)(Base.Bool,(Base.not_int)(#s41::Int64 === (Base.box)(Base.Int,(Base.add_int)(GenSym(2),1))::Bool)) goto 1\n",
      "      2: \n",
      "      GenSym(4) = (Base.arrayref)(X::Array{Float64,1},#s41::Int64)::Float64\n",
      "      GenSym(5) = (Base.box)(Base.Int,(Base.add_int)(#s41::Int64,1))\n",
      "      x = GenSym(4)\n",
      "      #s41 = GenSym(5) # In[11], line 4:\n",
      "      s = (Base.box)(Base.Float64,(Base.add_float)(s::Float64,(Base.box)(Base.Float64,(Base.div_float)((Base.box)(Float64,(Base.sitofp)(Float64,1)),x::Float64))))\n",
      "      3: \n",
      "      GenSym(3) = (Base.arraylen)(X::Array{Float64,1})::Int64\n",
      "      unless (Base.box)(Base.Bool,(Base.not_int)((Base.box)(Base.Bool,(Base.not_int)(#s41::Int64 === (Base.box)(Base.Int,(Base.add_int)(GenSym(3),1))::Bool)))) goto 2\n",
      "      1: \n",
      "      0:  # In[11], line 6:\n",
      "      return (Base.box)(Base.Float64,(Base.div_float)((Base.box)(Float64,(Base.sitofp)(Float64,1)),s::Float64))\n",
      "  end::Float64\n",
      "  0.004260 seconds (132 allocations: 7.422 KB)\n",
      "  0.001992 seconds (5 allocations: 176 bytes)\n"
     ]
    },
    {
     "data": {
      "text/plain": [
       "1-element Array{Any,1}:\n",
       " :($(Expr(:lambda, Any[:X], Any[Any[Any[:X,Array{Float64,1},0],Any[:s,Float64,2],Any[symbol(\"#s41\"),Int64,2],Any[:x,Float64,18]],Any[],Any[Array{Float64,1},Tuple{Float64,Int64},Int64,Int64,Float64,Int64],Any[]], :(begin  # In[11], line 2:\n",
       "        s = 0.0 # In[11], line 3:\n",
       "        #s41 = 1\n",
       "        GenSym(2) = (Base.arraylen)(X::Array{Float64,1})::Int64\n",
       "        unless (Base.box)(Base.Bool,(Base.not_int)(#s41::Int64 === (Base.box)(Base.Int,(Base.add_int)(GenSym(2),1))::Bool)) goto 1\n",
       "        2: \n",
       "        GenSym(4) = (Base.arrayref)(X::Array{Float64,1},#s41::Int64)::Float64\n",
       "        GenSym(5) = (Base.box)(Base.Int,(Base.add_int)(#s41::Int64,1))\n",
       "        x = GenSym(4)\n",
       "        #s41 = GenSym(5) # In[11], line 4:\n",
       "        s = (Base.box)(Base.Float64,(Base.add_float)(s::Float64,(Base.box)(Base.Float64,(Base.div_float)((Base.box)(Float64,(Base.sitofp)(Float64,1)),x::Float64))))\n",
       "        3: \n",
       "        GenSym(3) = (Base.arraylen)(X::Array{Float64,1})::Int64\n",
       "        unless (Base.box)(Base.Bool,(Base.not_int)((Base.box)(Base.Bool,(Base.not_int)(#s41::Int64 === (Base.box)(Base.Int,(Base.add_int)(GenSym(3),1))::Bool)))) goto 2\n",
       "        1: \n",
       "        0:  # In[11], line 6:\n",
       "        return (Base.box)(Base.Float64,(Base.div_float)((Base.box)(Float64,(Base.sitofp)(Float64,1)),s::Float64))\n",
       "    end::Float64))))"
      ]
     },
     "execution_count": 15,
     "metadata": {},
     "output_type": "execute_result"
    }
   ],
   "source": [
    "@code_typed harmonicmean2(X)"
   ]
  },
  {
   "cell_type": "code",
   "execution_count": 16,
   "metadata": {
    "collapsed": false
   },
   "outputs": [
    {
     "name": "stdout",
     "output_type": "stream",
     "text": [
      "\n",
      "define double @julia_harmonicmean2_21939(%jl_value_t*) {\n",
      "top:\n",
      "  %1 = getelementptr inbounds %jl_value_t* %0, i64 1\n",
      "  %2 = bitcast %jl_value_t* %1 to i64*\n",
      "  %3 = load i64* %2, align 8\n",
      "  %4 = icmp eq i64 %3, 0\n",
      "  br i1 %4, label %L3, label %L.preheader\n",
      "\n",
      "L.preheader:                                      ; preds = %top\n",
      "  %5 = load i64* %2, align 8\n",
      "  %6 = bitcast %jl_value_t* %0 to i8**\n",
      "  br label %L\n",
      "\n",
      "L:                                                ; preds = %idxend, %L.preheader\n",
      "  %\"#s41.0\" = phi i64 [ %14, %idxend ], [ 1, %L.preheader ]\n",
      "  %s.0 = phi double [ %16, %idxend ], [ 0.000000e+00, %L.preheader ]\n",
      "  %7 = add i64 %\"#s41.0\", -1\n",
      "  %8 = icmp ult i64 %7, %5\n",
      "  br i1 %8, label %idxend, label %oob\n",
      "\n",
      "oob:                                              ; preds = %L\n",
      "  %9 = alloca i64, align 8\n",
      "  store i64 %\"#s41.0\", i64* %9, align 8\n",
      "  call void @jl_bounds_error_ints(%jl_value_t* %0, i64* %9, i64 1)\n",
      "  unreachable\n",
      "\n",
      "idxend:                                           ; preds = %L\n",
      "  %10 = load i8** %6, align 8\n",
      "  %11 = bitcast i8* %10 to double*\n",
      "  %12 = getelementptr double* %11, i64 %7\n",
      "  %13 = load double* %12, align 8\n",
      "  %14 = add i64 %\"#s41.0\", 1\n",
      "  %15 = fdiv double 1.000000e+00, %13\n",
      "  %16 = fadd double %s.0, %15\n",
      "  %17 = icmp eq i64 %\"#s41.0\", %5\n",
      "  br i1 %17, label %L3, label %L\n",
      "\n",
      "L3:                                               ; preds = %idxend, %top\n",
      "  %s.1 = phi double [ 0.000000e+00, %top ], [ %16, %idxend ]\n",
      "  %18 = fdiv double 1.000000e+00, %s.1\n",
      "  ret double %18\n",
      "}\n"
     ]
    }
   ],
   "source": [
    "@code_llvm harmonicmean2(X)"
   ]
  },
  {
   "cell_type": "code",
   "execution_count": 17,
   "metadata": {
    "collapsed": false
   },
   "outputs": [
    {
     "name": "stdout",
     "output_type": "stream",
     "text": [
      "\t.section\t__TEXT,__text,regular,pure_instructions\n",
      "Filename: In[11]\n",
      "Source line: 3\n",
      "\tpushq\t%rbp\n",
      "\tmovq\t%rsp, %rbp\n",
      "\txorps\t%xmm1, %xmm1\n",
      "Source line: 3\n",
      "\tcmpq\t$0, 8(%rdi)\n",
      "\tje\tL98\n",
      "\tmovq\t8(%rdi), %r8\n",
      "\tmovq\t%r8, %r9\n",
      "\tnegq\t%r9\n",
      "\txorps\t%xmm1, %xmm1\n",
      "\txorl\t%edx, %edx\n",
      "\tmovabsq\t$13233328464, %rax      ## imm = 0x314C49150\n",
      "\tmovsd\t(%rax), %xmm0\n",
      "\txorl\t%esi, %esi\n",
      "L49:\tcmpq\t%r8, %rdx\n",
      "\tjae\tL121\n",
      "Source line: 4\n",
      "\tleaq\t(,%rsi,8), %rcx\n",
      "Source line: 3\n",
      "\tmovq\t(%rdi), %rax\n",
      "Source line: 4\n",
      "\tsubq\t%rcx, %rax\n",
      "\tmovaps\t%xmm0, %xmm2\n",
      "\tdivsd\t(%rax), %xmm2\n",
      "\tincq\t%rdx\n",
      "\tdecq\t%rsi\n",
      "\tcmpq\t%rsi, %r9\n",
      "\taddsd\t%xmm2, %xmm1\n",
      "\tjne\tL49\n",
      "L98:\tmovabsq\t$13233328464, %rax      ## imm = 0x314C49150\n",
      "\tmovsd\t(%rax), %xmm0\n",
      "Source line: 6\n",
      "\tdivsd\t%xmm1, %xmm0\n",
      "\tmovq\t%rbp, %rsp\n",
      "\tpopq\t%rbp\n",
      "\tret\n",
      "L121:\tmovl\t$1, %eax\n",
      "Source line: 3\n",
      "\tsubq\t%rsi, %rax\n",
      "\tmovq\t%rsp, %rcx\n",
      "\tleaq\t-16(%rcx), %rsi\n",
      "\tmovq\t%rsi, %rsp\n",
      "\tmovq\t%rax, -16(%rcx)\n",
      "\tmovabsq\t$jl_bounds_error_ints, %rax\n",
      "\tmovl\t$1, %edx\n",
      "\tcallq\t*%rax\n"
     ]
    }
   ],
   "source": [
    "@code_native harmonicmean2(X)"
   ]
  },
  {
   "cell_type": "markdown",
   "metadata": {
    "collapsed": true
   },
   "source": [
    "## Other metaprogramming tools\n",
    "\n",
    "`eval` evaluates an `Expr` object:"
   ]
  },
  {
   "cell_type": "code",
   "execution_count": 5,
   "metadata": {
    "collapsed": false
   },
   "outputs": [
    {
     "data": {
      "text/plain": [
       "0.8414709848078965"
      ]
     },
     "execution_count": 5,
     "metadata": {},
     "output_type": "execute_result"
    }
   ],
   "source": [
    "x = 1\n",
    "eval(:(sin(x)))"
   ]
  },
  {
   "cell_type": "markdown",
   "metadata": {},
   "source": [
    "Useful for code generation: e.g. when generating wrappers around C library functions for different types (e.g. see [BLAS](https://github.com/JuliaLang/julia/blob/master/base/linalg/blas.jl) or [LAPACK](https://github.com/JuliaLang/julia/blob/master/base/linalg/lapack.jl) code).\n",
    "\n",
    "> **Warning**: if you start writing macros, at some point you will be annoyed that macros don't have access to type information. You may be tempted to use `eval` inside a macro to get around this: *don't* do it, this can cause all sorts of problems (e.g. if you use the macro inside a function).\n",
    "\n",
    "One way around this is using *staged functions*: these allow on-demand code generation of functions, and have access to input types."
   ]
  },
  {
   "cell_type": "code",
   "execution_count": null,
   "metadata": {
    "collapsed": true
   },
   "outputs": [],
   "source": []
  }
 ],
 "metadata": {
  "kernelspec": {
   "display_name": "Julia 0.4.1",
   "language": "julia",
   "name": "julia-0.4"
  },
  "language_info": {
   "file_extension": ".jl",
   "mimetype": "application/julia",
   "name": "julia",
   "version": "0.4.1"
  }
 },
 "nbformat": 4,
 "nbformat_minor": 0
}
