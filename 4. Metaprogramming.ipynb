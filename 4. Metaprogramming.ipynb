{
 "cells": [
  {
   "cell_type": "markdown",
   "metadata": {},
   "source": [
    "# 4. Metaprogramming\n",
    "\n",
    "Julia has extensive support of *metaprogramming*, that is, writing programs that generate other programs.\n",
    "\n",
    "Julia expressions are actually Julia objects:"
   ]
  },
  {
   "cell_type": "code",
   "execution_count": 2,
   "metadata": {
    "collapsed": false
   },
   "outputs": [
    {
     "data": {
      "text/plain": [
       ":(sin(x) + 2)"
      ]
     },
     "execution_count": 2,
     "metadata": {},
     "output_type": "execute_result"
    }
   ],
   "source": [
    "ex = :(sin(x)+2) # : quotes the expression; can also use \"quote\" blocks"
   ]
  },
  {
   "cell_type": "code",
   "execution_count": 3,
   "metadata": {
    "collapsed": false
   },
   "outputs": [
    {
     "data": {
      "text/plain": [
       "Expr"
      ]
     },
     "execution_count": 3,
     "metadata": {},
     "output_type": "execute_result"
    }
   ],
   "source": [
    "typeof(ex)"
   ]
  },
  {
   "cell_type": "code",
   "execution_count": 5,
   "metadata": {
    "collapsed": false
   },
   "outputs": [
    {
     "data": {
      "text/plain": [
       "3-element Array{Any,1}:\n",
       "  :+       \n",
       "  :(sin(x))\n",
       " 2         "
      ]
     },
     "execution_count": 5,
     "metadata": {},
     "output_type": "execute_result"
    }
   ],
   "source": [
    "ex.args\n"
   ]
  },
  {
   "cell_type": "markdown",
   "metadata": {},
   "source": [
    "*Macros* are functions that are applied to expressions that in turn generate other expressions. This is then evaluated"
   ]
  },
  {
   "cell_type": "code",
   "execution_count": 6,
   "metadata": {
    "collapsed": true
   },
   "outputs": [],
   "source": [
    "macro mytime(ex)\n",
    "    quote\n",
    "        start = time()\n",
    "        result = $ex\n",
    "        stop = time()\n",
    "        println(\"time: $(stop-start)\")\n",
    "        result\n",
    "    end\n",
    "end"
   ]
  },
  {
   "cell_type": "code",
   "execution_count": 7,
   "metadata": {
    "collapsed": false,
    "scrolled": true
   },
   "outputs": [
    {
     "name": "stdout",
     "output_type": "stream",
     "text": [
      "time: 0.3491530418395996\n"
     ]
    },
    {
     "data": {
      "text/plain": [
       "100x100 Array{Float64,2}:\n",
       "  -2.71914     6.6999     -1.30577  …    5.2316    -11.0382       0.90014 \n",
       "  -7.13392     2.20583   -13.3039        5.1261      4.99885     -2.28197 \n",
       "  -0.854808   -8.14914    15.6467       -6.13293    -0.0494801   -8.84625 \n",
       "  12.7186     -2.26214     6.33962      -2.63817    -4.99795    -26.5111  \n",
       "  -3.24379     7.64903   -12.3051        4.2369     -0.777312   -11.3241  \n",
       "   9.27228    10.9853     -8.13451  …   10.9392     -7.1425       5.38652 \n",
       " -17.8695     -8.26481     5.51744       0.62028     4.14776     10.1411  \n",
       "   1.5181     12.7657     -4.53762       1.21105     2.57646      1.47551 \n",
       "   8.68605    23.069       1.41747       1.34449     7.15347      9.00923 \n",
       "  -3.3913    -27.2045     13.3734        3.84731    -0.104065    -9.45328 \n",
       "  20.9632    -11.4956      3.9695   …   -1.85235     4.48386      5.15321 \n",
       " -12.8498     -4.78087    -3.06139      -4.22939   -14.1557       6.70511 \n",
       "  -3.731       1.02499     6.70089      -0.454728   -0.815443    12.801   \n",
       "   ⋮                                ⋱                                     \n",
       "  20.4252     12.0458    -14.6844       -1.69873   -16.5478      -5.76824 \n",
       "  -2.19063   -15.8534     -3.60905      11.4874      7.8115      -5.85081 \n",
       "  -2.26404     3.95851   -17.203    …  -19.9177     11.7966      -4.69788 \n",
       "   7.7966     18.4329      8.75521      -4.73324    -3.38799    -13.712   \n",
       "   7.53026    -4.3275      1.68581     -20.1374     28.7024     -27.3916  \n",
       "   6.23164    10.1547    -10.8372        6.47787     0.414226     0.368227\n",
       "   4.33111    -0.691424    2.39564     -12.2333     -9.33502     -4.51209 \n",
       "  -8.01872     2.32312     7.4079   …   -9.88488   -10.3468      17.0845  \n",
       "   9.93467    -8.21318   -13.1465        6.59401   -10.2309       7.45961 \n",
       "  34.3651     11.2196     -4.17529      -0.684507   11.9674     -19.8258  \n",
       "  -3.54765    -5.09431   -15.859         4.10354     4.50186      6.33574 \n",
       "   5.96139   -14.4015      2.2564        8.89219   -11.5753       2.22829 "
      ]
     },
     "execution_count": 7,
     "metadata": {},
     "output_type": "execute_result"
    }
   ],
   "source": [
    "@mytime randn(100,100)*randn(100,100)"
   ]
  },
  {
   "cell_type": "markdown",
   "metadata": {},
   "source": [
    "Julia actually provides its own better `@time` macro:"
   ]
  },
  {
   "cell_type": "code",
   "execution_count": 8,
   "metadata": {
    "collapsed": false
   },
   "outputs": [
    {
     "name": "stdout",
     "output_type": "stream",
     "text": [
      "  "
     ]
    },
    {
     "data": {
      "text/plain": [
       "100x100 Array{Float64,2}:\n",
       "  -2.64663     3.14769     11.8085    …    6.68086    22.4838     2.18353 \n",
       "   5.13249     4.85234    -15.2032         3.86468    17.6687     1.12693 \n",
       "  10.8434    -11.4068       5.09745       -9.57045     8.22124   -3.18819 \n",
       "   2.90809     1.43358    -18.782          7.63109    -2.12416    4.93513 \n",
       "   0.928754   -5.21001     13.2987        -1.27955    -5.9208    -5.98532 \n",
       " -15.094       0.0747849   -6.40863   …    6.16544   -25.1429     1.4259  \n",
       "   4.32416     3.70796     23.7682       -17.6056      5.96162   -0.784301\n",
       "   6.22989    -0.193696    -1.29534        3.9813     -5.20838   -1.15591 \n",
       "  -0.650502    7.75045    -19.7026        -6.71136    -1.04207    5.64205 \n",
       "  -9.20611    -5.52086      6.75775      -16.3488    -14.5403   -16.6278  \n",
       "   8.46163     3.46066    -23.7672    …    9.8057     -6.89556   -9.4024  \n",
       "   4.34024    -7.75575    -26.1231        28.0131    -11.3154    10.9155  \n",
       "  -6.78092     7.07685    -10.6505       -12.0038    -10.5035     4.81162 \n",
       "   ⋮                                  ⋱                                   \n",
       "  11.4857     11.6891     -16.8426         5.02518    21.2746     4.65163 \n",
       "   7.92903    -7.00498    -14.6608         4.34315     8.07851   -9.58873 \n",
       "   5.0468     -1.87578     12.3252    …  -16.4299     -3.47346   19.7419  \n",
       "   2.632       5.38719    -12.1214         0.26191    -8.56026    6.18834 \n",
       "  -2.31734    -8.65397     -9.49138       -2.65532     3.75148   13.4349  \n",
       "  -4.16677    -1.10325      4.44182       -9.21348     5.41847   -8.47656 \n",
       "  -1.97121     9.15562    -13.4324        -3.02771     5.03878   -5.60103 \n",
       "   0.082055  -24.7567       0.933638  …  -27.8948    -26.3412    13.236   \n",
       "  -6.06375    -2.06773     11.4801         3.58356    14.0396     1.24058 \n",
       "   1.83048   -15.8643       1.47808        5.48873    14.5601   -29.736   \n",
       "   8.49649     4.90892     -1.56179        5.53585    14.1407     7.85781 \n",
       " -12.4234    -15.2281       0.499963       0.229009    1.35949   -2.99014 "
      ]
     },
     "execution_count": 8,
     "metadata": {},
     "output_type": "execute_result"
    },
    {
     "name": "stdout",
     "output_type": "stream",
     "text": [
      "0.000206 seconds (155 allocations: 244.745 KB)\n"
     ]
    }
   ],
   "source": [
    "@time randn(100,100)*randn(100,100)"
   ]
  },
  {
   "cell_type": "markdown",
   "metadata": {},
   "source": [
    "Metaprogramming is extremely powerful, but a bit of a dark art (for example, you have to be careful of *hygiene*, that is, not modifying symbols defined elsewhere).\n",
    "\n",
    "I find the `macroexpand` function useful to figure out what is going on:"
   ]
  },
  {
   "cell_type": "code",
   "execution_count": 9,
   "metadata": {
    "collapsed": false
   },
   "outputs": [
    {
     "data": {
      "text/plain": [
       "quote  # In[6], line 3:\n",
       "    #56#start = time() # In[6], line 4:\n",
       "    #57#result = sin(x) # In[6], line 5:\n",
       "    #58#stop = time() # In[6], line 6:\n",
       "    println(\"time: $(#58#stop - #56#start)\") # In[6], line 7:\n",
       "    #57#result\n",
       "end"
      ]
     },
     "execution_count": 9,
     "metadata": {},
     "output_type": "execute_result"
    }
   ],
   "source": [
    "macroexpand(:(@mytime sin(x)))"
   ]
  },
  {
   "cell_type": "markdown",
   "metadata": {},
   "source": [
    "> **Exercise**: write a macro that prints the values of the inputs to a function, and returns the result e.g.\n",
    "> \n",
    "> `@printinput sin(x)`\n",
    "> \n",
    "> should print the value of `x`, then return the result of `sin(x)`.\n",
    "\n",
    "Some particularly useful macros included in Julia:\n",
    "* `@time`, `@elapsed` for evaluating performance\n",
    "* `@printf` for formatted printing\n",
    "* `@code_warntype` for finding type unstable functions\n",
    "* `@label`/`@goto` for when you wish you were using Fortran (or just want to translate code)."
   ]
  },
  {
   "cell_type": "code",
   "execution_count": 11,
   "metadata": {
    "collapsed": false,
    "scrolled": true
   },
   "outputs": [
    {
     "name": "stdout",
     "output_type": "stream",
     "text": [
      "0.100000000000000005551115123125782702118158340454101562500000"
     ]
    }
   ],
   "source": [
    "@printf \"%.60f\" 0.1"
   ]
  },
  {
   "cell_type": "code",
   "execution_count": 16,
   "metadata": {
    "collapsed": false
   },
   "outputs": [
    {
     "data": {
      "text/plain": [
       "harmonicmean1 (generic function with 2 methods)"
      ]
     },
     "execution_count": 16,
     "metadata": {},
     "output_type": "execute_result"
    }
   ],
   "source": [
    "function harmonicmean1(X::Array)\n",
    "    s = 0\n",
    "    for x in X\n",
    "        s += 1/x\n",
    "    end\n",
    "    1/s\n",
    "end"
   ]
  },
  {
   "cell_type": "code",
   "execution_count": 17,
   "metadata": {
    "collapsed": false
   },
   "outputs": [
    {
     "name": "stdout",
     "output_type": "stream",
     "text": [
      "Variables:\n",
      "  X::Array{Float64,1}\n",
      "  s::ANY\n",
      "  #s35::Int64\n",
      "  x::Float64\n",
      "\n",
      "Body:\n",
      "  begin  # In[16], line 2:\n",
      "      s = 0 # In[16], line 3:\n",
      "      #s35 = 1\n",
      "      GenSym(2) = (Base.arraylen)(X::Array{Float64,1})::Int64\n",
      "      unless (Base.box)(Base.Bool,(Base.not_int)(#s35::Int64 === (Base.box)(Base.Int,(Base.add_int)(GenSym(2),1))::Bool)) goto 1\n",
      "      2: \n",
      "      GenSym(4) = (Base.arrayref)(X::Array{Float64,1},#s35::Int64)::Float64\n",
      "      GenSym(5) = (Base.box)(Base.Int,(Base.add_int)(#s35::Int64,1))\n",
      "      x = GenSym(4)\n",
      "      #s35 = GenSym(5) # In[16], line 4:\n",
      "      s = s::UNION{FLOAT64,INT64} + (Base.box)(Base.Float64,(Base.div_float)((Base.box)(Float64,(Base.sitofp)(Float64,1)),x::Float64))::Float64\n",
      "      3: \n",
      "      GenSym(3) = (Base.arraylen)(X::Array{Float64,1})::Int64\n",
      "      unless (Base.box)(Base.Bool,(Base.not_int)((Base.box)(Base.Bool,(Base.not_int)(#s35::Int64 === (Base.box)(Base.Int,(Base.add_int)(GenSym(3),1))::Bool)))) goto 2\n",
      "      1: \n",
      "      0:  # In[16], line 6:\n",
      "      return 1 / s::UNION{FLOAT64,INT64}::Float64\n",
      "  end::Float64\n"
     ]
    }
   ],
   "source": [
    "X = rand(1_000_000)\n",
    "@code_warntype harmonicmean1(X)"
   ]
  },
  {
   "cell_type": "code",
   "execution_count": 18,
   "metadata": {
    "collapsed": false
   },
   "outputs": [
    {
     "name": "stdout",
     "output_type": "stream",
     "text": [
      "  "
     ]
    },
    {
     "data": {
      "text/plain": [
       "6.493513520815289e-8"
      ]
     },
     "execution_count": 18,
     "metadata": {},
     "output_type": "execute_result"
    },
    {
     "name": "stdout",
     "output_type": "stream",
     "text": [
      "0.051536 seconds (2.00 M allocations: 30.529 MB, 9.13% gc time)\n",
      "  0.033154 seconds (2.00 M allocations: 30.518 MB, 15.08% gc time)\n"
     ]
    }
   ],
   "source": [
    "@time harmonicmean1(X)\n",
    "@time harmonicmean1(X)"
   ]
  },
  {
   "cell_type": "code",
   "execution_count": 19,
   "metadata": {
    "collapsed": false
   },
   "outputs": [
    {
     "data": {
      "text/plain": [
       "harmonicmean2 (generic function with 1 method)"
      ]
     },
     "execution_count": 19,
     "metadata": {},
     "output_type": "execute_result"
    }
   ],
   "source": [
    "function harmonicmean2(X)\n",
    "    s = 0.0\n",
    "    for x in X\n",
    "        s += 1/x\n",
    "    end\n",
    "    1/s\n",
    "end"
   ]
  },
  {
   "cell_type": "code",
   "execution_count": 20,
   "metadata": {
    "collapsed": false
   },
   "outputs": [
    {
     "name": "stdout",
     "output_type": "stream",
     "text": [
      "Variables:\n",
      "  X::Array{Float64,1}\n",
      "  s::Float64\n",
      "  #s34::Int64\n",
      "  x::Float64\n",
      "\n",
      "Body:\n",
      "  begin  # In[19], line 2:\n",
      "      s = 0.0 # In[19], line 3:\n",
      "      #s34 = 1\n",
      "      GenSym(2) = (Base.arraylen)(X::Array{Float64,1})::Int64\n",
      "      unless (Base.box)(Base.Bool,(Base.not_int)(#s34::Int64 === (Base.box)(Base.Int,(Base.add_int)(GenSym(2),1))::Bool)) goto 1\n",
      "      2: \n",
      "      GenSym(4) = (Base.arrayref)(X::Array{Float64,1},#s34::Int64)::Float64\n",
      "      GenSym(5) = (Base.box)(Base.Int,(Base.add_int)(#s34::Int64,1))\n",
      "      x = GenSym(4)\n",
      "      #s34 = GenSym(5) # In[19], line 4:\n",
      "      s = (Base.box)(Base.Float64,(Base.add_float)(s::Float64,(Base.box)(Base.Float64,(Base.div_float)((Base.box)(Float64,(Base.sitofp)(Float64,1)),x::Float64))))\n",
      "      3: \n",
      "      GenSym(3) = (Base.arraylen)(X::Array{Float64,1})::Int64\n",
      "      unless (Base.box)(Base.Bool,(Base.not_int)((Base.box)(Base.Bool,(Base.not_int)(#s34::Int64 === (Base.box)(Base.Int,(Base.add_int)(GenSym(3),1))::Bool)))) goto 2\n",
      "      1: \n",
      "      0:  # In[19], line 6:\n",
      "      return (Base.box)(Base.Float64,(Base.div_float)((Base.box)(Float64,(Base.sitofp)(Float64,1)),s::Float64))\n",
      "  end::Float64\n"
     ]
    }
   ],
   "source": [
    "@code_warntype harmonicmean2(X)"
   ]
  },
  {
   "cell_type": "code",
   "execution_count": 22,
   "metadata": {
    "collapsed": false
   },
   "outputs": [
    {
     "name": "stdout",
     "output_type": "stream",
     "text": [
      "  "
     ]
    },
    {
     "data": {
      "text/plain": [
       "6.493513520815289e-8"
      ]
     },
     "execution_count": 22,
     "metadata": {},
     "output_type": "execute_result"
    },
    {
     "name": "stdout",
     "output_type": "stream",
     "text": [
      "0.001622 seconds (5 allocations: 176 bytes)\n",
      "  0.001585 seconds (5 allocations: 176 bytes)\n"
     ]
    }
   ],
   "source": [
    "@time harmonicmean2(X)\n",
    "@time harmonicmean2(X)"
   ]
  },
  {
   "cell_type": "markdown",
   "metadata": {},
   "source": [
    "## What happens under the hood\n",
    "\n",
    "1. Parsing: syntax is parsed (see `parse` function)\n",
    " - Macros are expanded\n",
    "2. Code lowering: this is a simplified syntax (see `@code_lowered`)\n",
    " - `a += a` is changed to `a = a + b`\n",
    " - loops are replaced with gotos\n",
    "3. Type inference (see `@code_typed`)\n",
    " - tries to infer the type of each object\n",
    " - decides which method should be dispatched\n",
    "4. LLVM code generation (`@code_llvm`)\n",
    " - generates LLVM IR (intermediate representation) code\n",
    " - some initial optimisation passes \n",
    "5. Machine code (`@code_native`)\n",
    " - machine-specific optimisations\n",
    " - assembly code generation\n",
    "\n",
    "\n",
    "\n"
   ]
  },
  {
   "cell_type": "code",
   "execution_count": 23,
   "metadata": {
    "collapsed": false
   },
   "outputs": [
    {
     "data": {
      "text/plain": [
       "1-element Array{Any,1}:\n",
       " :($(Expr(:lambda, Any[:X], Any[Any[Any[:X,:Any,0],Any[:s,:Any,2],Any[symbol(\"#s34\"),:Any,2],Any[:x,:Any,18]],Any[],2,Any[]], :(begin  # In[19], line 2:\n",
       "        s = 0.0 # In[19], line 3:\n",
       "        GenSym(0) = X\n",
       "        #s34 = (top(start))(GenSym(0))\n",
       "        unless (top(!))((top(done))(GenSym(0),#s34)) goto 1\n",
       "        2: \n",
       "        GenSym(1) = (top(next))(GenSym(0),#s34)\n",
       "        x = (top(getfield))(GenSym(1),1)\n",
       "        #s34 = (top(getfield))(GenSym(1),2) # In[19], line 4:\n",
       "        s = s + 1 / x\n",
       "        3: \n",
       "        unless (top(!))((top(!))((top(done))(GenSym(0),#s34))) goto 2\n",
       "        1: \n",
       "        0:  # In[19], line 6:\n",
       "        return 1 / s\n",
       "    end))))"
      ]
     },
     "execution_count": 23,
     "metadata": {},
     "output_type": "execute_result"
    }
   ],
   "source": [
    "@code_lowered harmonicmean2(X)"
   ]
  },
  {
   "cell_type": "code",
   "execution_count": 24,
   "metadata": {
    "collapsed": false
   },
   "outputs": [
    {
     "data": {
      "text/plain": [
       "1-element Array{Any,1}:\n",
       " :($(Expr(:lambda, Any[:X], Any[Any[Any[:X,Array{Float64,1},0],Any[:s,Float64,2],Any[symbol(\"#s34\"),Int64,2],Any[:x,Float64,18]],Any[],Any[Array{Float64,1},Tuple{Float64,Int64},Int64,Int64,Float64,Int64],Any[]], :(begin  # In[19], line 2:\n",
       "        s = 0.0 # In[19], line 3:\n",
       "        #s34 = 1\n",
       "        GenSym(2) = (Base.arraylen)(X::Array{Float64,1})::Int64\n",
       "        unless (Base.box)(Base.Bool,(Base.not_int)(#s34::Int64 === (Base.box)(Base.Int,(Base.add_int)(GenSym(2),1))::Bool)) goto 1\n",
       "        2: \n",
       "        GenSym(4) = (Base.arrayref)(X::Array{Float64,1},#s34::Int64)::Float64\n",
       "        GenSym(5) = (Base.box)(Base.Int,(Base.add_int)(#s34::Int64,1))\n",
       "        x = GenSym(4)\n",
       "        #s34 = GenSym(5) # In[19], line 4:\n",
       "        s = (Base.box)(Base.Float64,(Base.add_float)(s::Float64,(Base.box)(Base.Float64,(Base.div_float)((Base.box)(Float64,(Base.sitofp)(Float64,1)),x::Float64))))\n",
       "        3: \n",
       "        GenSym(3) = (Base.arraylen)(X::Array{Float64,1})::Int64\n",
       "        unless (Base.box)(Base.Bool,(Base.not_int)((Base.box)(Base.Bool,(Base.not_int)(#s34::Int64 === (Base.box)(Base.Int,(Base.add_int)(GenSym(3),1))::Bool)))) goto 2\n",
       "        1: \n",
       "        0:  # In[19], line 6:\n",
       "        return (Base.box)(Base.Float64,(Base.div_float)((Base.box)(Float64,(Base.sitofp)(Float64,1)),s::Float64))\n",
       "    end::Float64))))"
      ]
     },
     "execution_count": 24,
     "metadata": {},
     "output_type": "execute_result"
    }
   ],
   "source": [
    "@code_typed harmonicmean2(X)"
   ]
  },
  {
   "cell_type": "code",
   "execution_count": 25,
   "metadata": {
    "collapsed": false
   },
   "outputs": [
    {
     "name": "stdout",
     "output_type": "stream",
     "text": [
      "\n",
      "define double @julia_harmonicmean2_22011(%jl_value_t*) {\n",
      "top:\n",
      "  %1 = getelementptr inbounds %jl_value_t* %0, i64 1\n",
      "  %2 = bitcast %jl_value_t* %1 to i64*\n",
      "  %3 = load i64* %2, align 8\n",
      "  %4 = icmp eq i64 %3, 0\n",
      "  br i1 %4, label %L3, label %L.preheader\n",
      "\n",
      "L.preheader:                                      ; preds = %top\n",
      "  %5 = load i64* %2, align 8\n",
      "  %6 = bitcast %jl_value_t* %0 to i8**\n",
      "  br label %L\n",
      "\n",
      "L:                                                ; preds = %idxend, %L.preheader\n",
      "  %\"#s34.0\" = phi i64 [ %14, %idxend ], [ 1, %L.preheader ]\n",
      "  %s.0 = phi double [ %16, %idxend ], [ 0.000000e+00, %L.preheader ]\n",
      "  %7 = add i64 %\"#s34.0\", -1\n",
      "  %8 = icmp ult i64 %7, %5\n",
      "  br i1 %8, label %idxend, label %oob\n",
      "\n",
      "oob:                                              ; preds = %L\n",
      "  %9 = alloca i64, align 8\n",
      "  store i64 %\"#s34.0\", i64* %9, align 8\n",
      "  call void @jl_bounds_error_ints(%jl_value_t* %0, i64* %9, i64 1)\n",
      "  unreachable\n",
      "\n",
      "idxend:                                           ; preds = %L\n",
      "  %10 = load i8** %6, align 8\n",
      "  %11 = bitcast i8* %10 to double*\n",
      "  %12 = getelementptr double* %11, i64 %7\n",
      "  %13 = load double* %12, align 8\n",
      "  %14 = add i64 %\"#s34.0\", 1\n",
      "  %15 = fdiv double 1.000000e+00, %13\n",
      "  %16 = fadd double %s.0, %15\n",
      "  %17 = icmp eq i64 %\"#s34.0\", %5\n",
      "  br i1 %17, label %L3, label %L\n",
      "\n",
      "L3:                                               ; preds = %idxend, %top\n",
      "  %s.1 = phi double [ 0.000000e+00, %top ], [ %16, %idxend ]\n",
      "  %18 = fdiv double 1.000000e+00, %s.1\n",
      "  ret double %18\n",
      "}\n"
     ]
    }
   ],
   "source": [
    "@code_llvm harmonicmean2(X)"
   ]
  },
  {
   "cell_type": "code",
   "execution_count": 26,
   "metadata": {
    "collapsed": false,
    "scrolled": true
   },
   "outputs": [
    {
     "name": "stdout",
     "output_type": "stream",
     "text": [
      "\t.section\t__TEXT,__text,regular,pure_instructions\n",
      "Filename: In[19]\n",
      "Source line: 3\n",
      "\tpushq\t%rbp\n",
      "\tmovq\t%rsp, %rbp\n",
      "\txorps\t%xmm1, %xmm1\n",
      "Source line: 3\n",
      "\tcmpq\t$0, 8(%rdi)\n",
      "\tje\tL98\n",
      "\tmovq\t8(%rdi), %r8\n",
      "\tmovq\t%r8, %r9\n",
      "\tnegq\t%r9\n",
      "\txorps\t%xmm1, %xmm1\n",
      "\txorl\t%edx, %edx\n",
      "\tmovabsq\t$13337482064, %rax      ## imm = 0x31AF9D350\n",
      "\tmovsd\t(%rax), %xmm0\n",
      "\txorl\t%esi, %esi\n",
      "L49:\tcmpq\t%r8, %rdx\n",
      "\tjae\tL121\n",
      "Source line: 4\n",
      "\tleaq\t(,%rsi,8), %rcx\n",
      "Source line: 3\n",
      "\tmovq\t(%rdi), %rax\n",
      "Source line: 4\n",
      "\tsubq\t%rcx, %rax\n",
      "\tmovaps\t%xmm0, %xmm2\n",
      "\tdivsd\t(%rax), %xmm2\n",
      "\tincq\t%rdx\n",
      "\tdecq\t%rsi\n",
      "\tcmpq\t%rsi, %r9\n",
      "\taddsd\t%xmm2, %xmm1\n",
      "\tjne\tL49\n",
      "L98:\tmovabsq\t$13337482064, %rax      ## imm = 0x31AF9D350\n",
      "\tmovsd\t(%rax), %xmm0\n",
      "Source line: 6\n",
      "\tdivsd\t%xmm1, %xmm0\n",
      "\tmovq\t%rbp, %rsp\n",
      "\tpopq\t%rbp\n",
      "\tret\n",
      "L121:\tmovl\t$1, %eax\n",
      "Source line: 3\n",
      "\tsubq\t%rsi, %rax\n",
      "\tmovq\t%rsp, %rcx\n",
      "\tleaq\t-16(%rcx), %rsi\n",
      "\tmovq\t%rsi, %rsp\n",
      "\tmovq\t%rax, -16(%rcx)\n",
      "\tmovabsq\t$jl_bounds_error_ints, %rax\n",
      "\tmovl\t$1, %edx\n",
      "\tcallq\t*%rax\n"
     ]
    }
   ],
   "source": [
    "@code_native harmonicmean2(X)"
   ]
  },
  {
   "cell_type": "markdown",
   "metadata": {
    "collapsed": true
   },
   "source": [
    "## Other metaprogramming tools\n",
    "\n",
    "`eval` evaluates an `Expr` object:"
   ]
  },
  {
   "cell_type": "code",
   "execution_count": 5,
   "metadata": {
    "collapsed": false
   },
   "outputs": [
    {
     "data": {
      "text/plain": [
       "0.8414709848078965"
      ]
     },
     "execution_count": 5,
     "metadata": {},
     "output_type": "execute_result"
    }
   ],
   "source": [
    "x = 1\n",
    "eval(:(sin(x)))"
   ]
  },
  {
   "cell_type": "markdown",
   "metadata": {},
   "source": [
    "Useful for code generation: e.g. when generating wrappers around C library functions for different types (e.g. see [BLAS](https://github.com/JuliaLang/julia/blob/master/base/linalg/blas.jl) or [LAPACK](https://github.com/JuliaLang/julia/blob/master/base/linalg/lapack.jl) code).\n",
    "\n",
    "> **Warning**: if you start writing macros, at some point you will be annoyed that macros don't have access to type information. You may be tempted to use `eval` inside a macro to get around this: *don't* do it, this can cause all sorts of problems (e.g. if you use the macro inside a function).\n",
    "\n",
    "One way around this is using *staged functions*: these allow on-demand code generation of functions, and have access to input types."
   ]
  },
  {
   "cell_type": "code",
   "execution_count": null,
   "metadata": {
    "collapsed": true
   },
   "outputs": [],
   "source": []
  }
 ],
 "metadata": {
  "kernelspec": {
   "display_name": "Julia 0.4.1",
   "language": "julia",
   "name": "julia-0.4"
  },
  "language_info": {
   "file_extension": ".jl",
   "mimetype": "application/julia",
   "name": "julia",
   "version": "0.4.1"
  }
 },
 "nbformat": 4,
 "nbformat_minor": 0
}
